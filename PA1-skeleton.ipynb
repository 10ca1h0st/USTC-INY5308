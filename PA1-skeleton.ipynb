{
 "cells": [
  {
   "cell_type": "markdown",
   "metadata": {},
   "source": [
    "# 引言\n",
    "\n",
    "在本次IR实验中，请运用所学的知识，为搜索引擎构建一个简单的索引和检索系统，包括：\n",
    "\n",
    "1. [构建非压缩索引及检索实现](#构建非压缩索引及检索实现) 在stanford.edu网页语料库上构建未压缩索引，并实现布尔查询检索。\n",
    "2. [构建压缩索引](#构建压缩索引) 使用可变长度编码在同一个语料库上构建压缩索引，并实现布尔查询。\n",
    "3. [附加题](#其他压缩方法实现(选做))"
   ]
  },
  {
   "cell_type": "markdown",
   "metadata": {},
   "source": [
    "\n",
    "## 实验要求及提交说明\n",
    "\n",
    "1\\. 本次实验将于学期结束前提交，具体时间将提前至少2周发布。\n",
    "\n",
    "2\\. 实验项目中包括：\n",
    "\n",
    "**本实验文档PA1-skeleton.ipynb**\n",
    "\n",
    "**实验环境安装说明README.md**\n",
    "\n",
    "**测试语料库文件夹toy-data**\n",
    "\n",
    "**对完整语料库的查询文件dev_queries**\n",
    "\n",
    "**完整的语料库压缩文件**\n",
    "\n",
    "**其他配置文件**\n",
    "\n",
    "实验推荐安装Anaconda平台（python3版本），具体安装方法请参考网上教程。\n",
    "\n",
    "2\\. 实验需要提交内容包括：\n",
    "\n",
    "**一份实验报告**（文件名：姓名_学号）\n",
    "\n",
    "**通过dev_queries文件夹内的查询得到的查询结果文件，命名为dev_out，文件夹内命名规则与dev_queries保持一致**\n",
    "\n",
    "**实验项目所有内容的压缩文件**（注意：不要任意修改文件名，便于助教进行测试）\n",
    "\n",
    "其中，实验报告的内容需要包括以下内容：\n",
    "\n",
    "(1) 需要补充的关键代码及说明；\n",
    "\n",
    "(2) 所有存在输出结果的结果输出截图（包括测试部分）；\n",
    "\n",
    "(3) （选做）附加部分的代码说明及分析；\n",
    "\n",
    "(4) 实验总结。\n",
    "\n",
    "3\\. 请将以上所有提交内容打包到一个压缩文件中，命名为IREXP_姓名_学号，发送至邮箱：irdm_ustc@163.com 。\n",
    "\n",
    "4\\. 本实验参考Stanfod相关课程实验，故以下内容以英文为主。由于本学年第一次新增IR部分实验，如对实验内容有任何问题，欢迎与助教讨论或在QQ群内讨论，助教邮箱：gxq13@mail.ustc.edu.cn 。"
   ]
  },
  {
   "cell_type": "markdown",
   "metadata": {},
   "source": [
    "## Setup"
   ]
  },
  {
   "cell_type": "code",
   "execution_count": 1,
   "metadata": {},
   "outputs": [],
   "source": [
    "#Load the tee magic which saves a copy of the cell when executed\n",
    "%reload_ext autograding_magics"
   ]
  },
  {
   "cell_type": "markdown",
   "metadata": {},
   "source": [
    "The `submission` folder will contain all the files to be submitted."
   ]
  },
  {
   "cell_type": "code",
   "execution_count": 2,
   "metadata": {},
   "outputs": [],
   "source": [
    "import os\n",
    "try: \n",
    "    os.mkdir('submission')\n",
    "except FileExistsError:\n",
    "    pass"
   ]
  },
  {
   "cell_type": "code",
   "execution_count": 3,
   "metadata": {},
   "outputs": [
    {
     "name": "stdout",
     "output_type": "stream",
     "text": [
      "Overwriting submission/imports.py\n"
     ]
    }
   ],
   "source": [
    "%%tee submission/imports.py\n",
    "\n",
    "# You can add additional imports here\n",
    "import sys\n",
    "import pickle as pkl\n",
    "import array\n",
    "import os\n",
    "import timeit\n",
    "import contextlib\n",
    "\n",
    "import re\n",
    "import struct"
   ]
  },
  {
   "cell_type": "markdown",
   "metadata": {},
   "source": [
    "# Corpus （语料库）"
   ]
  },
  {
   "cell_type": "markdown",
   "metadata": {},
   "source": [
    "The corpus you will be working with for this assignment contains webpages from the stanford.edu domain. The data for this assignment is available as a .zip file at: http://web.stanford.edu/class/cs276/pa/pa1-data.zip. The following code puts the data folder under the current directory. The total size of the corpus is about 170MB.\n",
    "（该文件已提前下载在实验文件中）"
   ]
  },
  {
   "cell_type": "code",
   "execution_count": 4,
   "metadata": {},
   "outputs": [
    {
     "name": "stdout",
     "output_type": "stream",
     "text": [
      "already unziped\n"
     ]
    }
   ],
   "source": [
    "if os.path.isdir('pa1-data'):\n",
    "    print('already unziped')\n",
    "else:\n",
    "\n",
    "    import urllib.request\n",
    "    import zipfile\n",
    "\n",
    "    #'http://web.stanford.edu/class/cs276/pa/pa1-data.zip'\n",
    "    data_dir = 'pa1-data'\n",
    "    #urllib.request.urlretrieve(data_url, data_dir+'.zip')\n",
    "    zip_ref = zipfile.ZipFile(data_dir+'.zip', 'r')\n",
    "    zip_ref.extractall()\n",
    "    zip_ref.close()"
   ]
  },
  {
   "cell_type": "markdown",
   "metadata": {},
   "source": [
    "The index will be stored in `output_dir` and `tmp` will contain some temporary files for toy indices."
   ]
  },
  {
   "cell_type": "code",
   "execution_count": 5,
   "metadata": {},
   "outputs": [],
   "source": [
    "try: \n",
    "    os.mkdir('output_dir')\n",
    "except FileExistsError:\n",
    "    pass\n",
    "try: \n",
    "    os.mkdir('tmp')\n",
    "except FileExistsError:\n",
    "    pass\n",
    "try: \n",
    "    os.mkdir('toy_output_dir')\n",
    "except FileExistsError:\n",
    "    pass"
   ]
  },
  {
   "cell_type": "markdown",
   "metadata": {},
   "source": [
    "There are 10 sub-directories (named 0-9) under the data directory."
   ]
  },
  {
   "cell_type": "code",
   "execution_count": 6,
   "metadata": {},
   "outputs": [
    {
     "data": {
      "text/plain": [
       "['0', '1', '2', '3', '4', '5', '6', '7', '8', '9']"
      ]
     },
     "execution_count": 6,
     "metadata": {},
     "output_type": "execute_result"
    }
   ],
   "source": [
    "sorted(os.listdir('pa1-data'))"
   ]
  },
  {
   "cell_type": "markdown",
   "metadata": {},
   "source": [
    "Each file under the sub-directory is the content of an individual webpage. You should assume that the individual file names are unique within each sub-directory, but not necessarily the case across sub-directories (*i.e.,* the full path of the files are unique)."
   ]
  },
  {
   "cell_type": "code",
   "execution_count": 7,
   "metadata": {},
   "outputs": [
    {
     "data": {
      "text/plain": [
       "['3dradiology.stanford.edu_',\n",
       " '3dradiology.stanford.edu_patient_care_Case%2520studies_AVM.html',\n",
       " '3dradiology.stanford.edu_patient_care_case_studies.html',\n",
       " '5-sure.stanford.edu_',\n",
       " '50years.stanford.edu_',\n",
       " 'a3cservices.stanford.edu_awards_nominate_',\n",
       " 'a3cservices.stanford.edu_facilities_',\n",
       " 'a3cservices.stanford.edu_lead_',\n",
       " 'aa.stanford.edu_',\n",
       " 'aa.stanford.edu_about_aviation.php']"
      ]
     },
     "execution_count": 7,
     "metadata": {},
     "output_type": "execute_result"
    }
   ],
   "source": [
    "sorted(os.listdir('pa1-data/0'))[:10]"
   ]
  },
  {
   "cell_type": "markdown",
   "metadata": {},
   "source": [
    "All the HTML info has been stripped off from those webpages, so they only contain space-delimited words. You should not re-tokenize the words. Each consecutive span of non-space characters consists of a word token in the corpus."
   ]
  },
  {
   "cell_type": "code",
   "execution_count": 8,
   "metadata": {},
   "outputs": [
    {
     "name": "stdout",
     "output_type": "stream",
     "text": [
      "3d radiology lab stanford university school of medicine stanford school of medicine 3d and quantitative imaging in the department of radiology search this site only stanford medical sites ways to give find a person alumni lane library ways to give find a person about us mission to develop and apply innovative techniques for efficient quantitative analysis and display of medical imaging data through interdisciplinary collaboration goals education to train physicians and technologists locally and worldwide in the latest developments in 3d and quantitative imaging research to develop new approaches to the exploration analysis and quantitative assesment of diagnostic images that result in a new and or more cost effective diagnostic approaches and b new techniques for the design and planning and monitoring of therapy patient care to deliver valid clinically relevant visualization and analysis of medical imaging data to the stanford community locations richard m lucas magnetic resonance imaging center 1201 welch rd p170 stanford ca 94305 5488 650 725 8432 james h clark center 318 campus drive s344 stanford ca 94305 5450 650 725 6862 directions to the 3qd lab local hotels you are here stanford medicine school of medicine departments radiology 3dq laboratory navigation for this section 3dq laboratory home education research patient care industry about us site navigation home education overview visiting fellowships reading list research overview research activities research opportunities patient care overview for physicians for patients protocol development 3dq management software case studies testimonials industry overview infrastructure and services about us faculty and staff history of the lab resources and equipment contact information jobs getting to the 3dq lab stanford medicine resources stanford medicine getting care overview find a physician find a clinical care center stanford hospital & clinics lucile packard children's hospital emergency research overview school of medicine news & resources clinical trials departments institutes & centers faculty profiles education & training overview school of medicine programs admissions continuing medical education alumni lane medical library community overview stanford health library community newsletter volunteering public service & community partnerships renewal & new building projects about us overview news careers ways to give find a person contact us maps & directions the dean's newsletter stanford university footer links contact us directions members only 2009 stanford school of medicine terms of use powered by irt\n",
      "\n"
     ]
    }
   ],
   "source": [
    "with open('pa1-data/0/3dradiology.stanford.edu_', 'r') as f:\n",
    "    print(f.read())"
   ]
  },
  {
   "cell_type": "markdown",
   "metadata": {},
   "source": [
    "You will also find a small corpus included with the assignment in the folder `toy-data`. We will use this toy dataset to test our code before running on the complete dataset."
   ]
  },
  {
   "cell_type": "code",
   "execution_count": 9,
   "metadata": {},
   "outputs": [],
   "source": [
    "toy_dir = 'toy-data'"
   ]
  },
  {
   "cell_type": "markdown",
   "metadata": {},
   "source": [
    "# 构建非压缩索引及检索实现"
   ]
  },
  {
   "cell_type": "markdown",
   "metadata": {},
   "source": [
    "The first part of this assignment is to build an inverted index of this corpus, and implement Boolean conjunctive queries. **In particular, you need to implement the blocked sort-based indexing (BSBI) algorithm described in [Section 4.2](http://nlp.stanford.edu/IR-book/pdf/04const.pdf) of the textbook.** While we quote some fundamentals from the textbook, we strongly suggest that you read Section 4.2 in more detail to fully understand the BSBI algorithm.\n",
    "\n",
    "实验的第一部分是建立这个语料库的倒排索引，并实现布尔查询（包括实现教材4.2节中描述的BSBI算法）。\n",
    "\n",
    "\n",
    "> To construct an index, we first make a pass through the collection assembling all term-docID pairs. We then sort the pairs with the term as the dominant key and docID as the secondary key. Finally, we organize the docIDs for each term into a postings list and compute statistics like term and document frequency. For small collections, all this can be done in memory. \n",
    "\n",
    "In this assignment, you will be implementing methods for large collections that require the use of secondary storage (*i.e.,* disk)."
   ]
  },
  {
   "cell_type": "markdown",
   "metadata": {},
   "source": [
    "## IdMap\n",
    "\n",
    "Again quoting from Section 4.2:\n",
    "\n",
    "> To make index construction more efficient, we represent terms as termIDs (instead of strings), where each termID is a unique serial number. We can build the mapping from terms to termIDs on the fly while we are processing the collection. Similarly, we also represent documents as docIDs (instead of strings).\n",
    "\n",
    "Let us first build a helper class `IdMap`, which maps strings to numeric ids (and vice-versa). We will need this to bijectively map term to termID and doc to docID.\n",
    "\n",
    "Fill in the functions `_get_str` and `_get_id` in the following code. The only interface to this class is provided by `__getitem__` which gets the correct mapping depending on the type of the key. (See [these docs](https://docs.python.org/3.7/reference/datamodel.html#special-method-names) if you are unfamiliar with special functions like `__getitem__` ). Further, to simplify code later on, we'll also add some logic to add a string if it doesn't already exist in the map.   \n",
    "\n",
    "We will use a dictionary for efficient access from strings to numeric ids, and we will use a list for efficient access (and storage) from numeric ids to strings.\n",
    "\n",
    "You might also find this [short tutorial](https://www.omkarpathak.in/2018/04/11/python-getitem-and-setitem/) useful to get started with special (a.k.a magic) methods\n"
   ]
  },
  {
   "cell_type": "code",
   "execution_count": 10,
   "metadata": {},
   "outputs": [
    {
     "name": "stdout",
     "output_type": "stream",
     "text": [
      "Overwriting submission/id_map.py\n"
     ]
    }
   ],
   "source": [
    "%%tee submission/id_map.py\n",
    "class IdMap:\n",
    "    \"\"\"Helper class to store a mapping from strings to ids.\"\"\"\n",
    "    def __init__(self):\n",
    "        self.str_to_id = {}\n",
    "        self.id_to_str = []\n",
    "        \n",
    "    def __len__(self):\n",
    "        \"\"\"Return number of terms stored in the IdMap\"\"\"\n",
    "        return len(self.id_to_str)\n",
    "        \n",
    "    def _get_str(self, i):\n",
    "        \"\"\"Returns the string corresponding to a given id (`i`).\"\"\"\n",
    "        ### Begin your code\n",
    "        try:\n",
    "            string = self.id_to_str[i]\n",
    "        except IndexError:\n",
    "            raise\n",
    "        else:\n",
    "            return string\n",
    "        \n",
    "\n",
    "        ### End your code\n",
    "        \n",
    "    def _get_id(self, s):\n",
    "        \"\"\"Returns the id corresponding to a string (`s`). \n",
    "        If `s` is not in the IdMap yet, then assigns a new id and returns the new id.\n",
    "        \"\"\"\n",
    "        ### Begin your code\n",
    "        try:\n",
    "            id = self.str_to_id[s]\n",
    "        except KeyError:\n",
    "            self.id_to_str.append(s)\n",
    "            self.str_to_id[s] = id = self.__len__() - 1\n",
    "        return id\n",
    "\n",
    "        ### End your code\n",
    "            \n",
    "    def __getitem__(self, key):\n",
    "        \"\"\"If `key` is a integer, use _get_str; \n",
    "           If `key` is a string, use _get_id;\"\"\"\n",
    "        if type(key) is int:\n",
    "            return self._get_str(key)\n",
    "        elif type(key) is str:\n",
    "            return self._get_id(key)\n",
    "        else:\n",
    "            raise TypeError"
   ]
  },
  {
   "cell_type": "markdown",
   "metadata": {},
   "source": [
    "Make sure it passes the following simple test cases"
   ]
  },
  {
   "cell_type": "code",
   "execution_count": 11,
   "metadata": {},
   "outputs": [],
   "source": [
    "testIdMap = IdMap()\n",
    "assert testIdMap['a'] == 0, \"Unable to add a new string to the IdMap\"\n",
    "assert testIdMap['bcd'] == 1, \"Unable to add a new string to the IdMap\"\n",
    "assert testIdMap['a'] == 0, \"Unable to retrieve the id of an existing string\"\n",
    "assert testIdMap[1] == 'bcd', \"Unable to retrive the string corresponding to a\\\n",
    "                                given id\"\n",
    "try:\n",
    "    testIdMap[2]\n",
    "except IndexError as e:\n",
    "    assert True, \"Doesn't throw an IndexError for out of range numeric ids\"\n",
    "assert len(testIdMap) == 2"
   ]
  },
  {
   "cell_type": "markdown",
   "metadata": {},
   "source": [
    "Going forward we will expect you to write your own test cases to make sure parts of your program are working as expected."
   ]
  },
  {
   "cell_type": "markdown",
   "metadata": {},
   "source": [
    "## Encoding Postings List as bytearrays\n",
    "\n",
    "In order to write and read lists of postings (docIDs) efficiently from the disk, we store them as bytearrays. We've provided an implementation of `UncompressedPostings` class which contains static encode and decode functions. In the next task you'll be required to implement compressed versions with the same inferface. \n",
    "\n",
    "For reference:\n",
    "1. https://docs.python.org/3/library/array.html\n",
    "2. https://pymotw.com/3/array/#module-array"
   ]
  },
  {
   "cell_type": "code",
   "execution_count": 12,
   "metadata": {},
   "outputs": [],
   "source": [
    "class UncompressedPostings:\n",
    "    \n",
    "    @staticmethod\n",
    "    def encode(postings_list):\n",
    "        \"\"\"Encodes postings_list into a stream of bytes\n",
    "        \n",
    "        Parameters\n",
    "        ----------\n",
    "        postings_list: List[int]\n",
    "            List of docIDs (postings)\n",
    "            \n",
    "        Returns\n",
    "        -------\n",
    "        bytes\n",
    "            bytearray representing integers in the postings_list\n",
    "        \"\"\"\n",
    "        return array.array('L', postings_list).tobytes()\n",
    "        \n",
    "    @staticmethod\n",
    "    def decode(encoded_postings_list):\n",
    "        \"\"\"Decodes postings_list from a stream of bytes\n",
    "        \n",
    "        Parameters\n",
    "        ----------\n",
    "        encoded_postings_list: bytes\n",
    "            bytearray representing encoded postings list as output by encode \n",
    "            function\n",
    "            \n",
    "        Returns\n",
    "        -------\n",
    "        List[int]\n",
    "            Decoded list of docIDs from encoded_postings_list\n",
    "        \"\"\"\n",
    "        \n",
    "        decoded_postings_list = array.array('L')\n",
    "        decoded_postings_list.frombytes(encoded_postings_list)\n",
    "        return decoded_postings_list.tolist()"
   ]
  },
  {
   "cell_type": "markdown",
   "metadata": {},
   "source": [
    "To illustrate how it works, run the following cell"
   ]
  },
  {
   "cell_type": "code",
   "execution_count": 13,
   "metadata": {},
   "outputs": [
    {
     "name": "stdout",
     "output_type": "stream",
     "text": [
      "b'\\x01\\x00\\x00\\x00\\x02\\x00\\x00\\x00\\x03\\x00\\x00\\x00'\n",
      "[1, 2, 3]\n"
     ]
    }
   ],
   "source": [
    "x = UncompressedPostings.encode([1,2,3])\n",
    "print(x)\n",
    "print(UncompressedPostings.decode(x))"
   ]
  },
  {
   "cell_type": "markdown",
   "metadata": {},
   "source": [
    "## Inverted Index on Disk\n",
    "\n",
    "> With main memory insufficient, we need to use an external sorting algorithm, that is, one that uses disk. For acceptable speed, the central requirement of such an algorithm is that it minimize the number of random disk seeks during sorting - sequential disk reads are far faster than seeks. \n",
    "\n",
    "In this section we provide a base class `InvertedIndex` which would be subsequently subclassed into `InvertedIndexWriter`, `InvertedIndexIterator` and `InvertedIndexMapper`. While typically `cPickle` is used for serialization in Python, it does not support partial reads and writes, which is why we are rolling out our own custom solution."
   ]
  },
  {
   "cell_type": "code",
   "execution_count": 14,
   "metadata": {},
   "outputs": [],
   "source": [
    "class InvertedIndex:\n",
    "    \"\"\"A class that implements efficient reads and writes of an inverted index \n",
    "    to disk\n",
    "    \n",
    "    Attributes\n",
    "    ----------\n",
    "    postings_dict: Dictionary mapping: termID->(start_position_in_index_file, \n",
    "                                                number_of_postings_in_list,\n",
    "                                               length_in_bytes_of_postings_list)\n",
    "        This is a dictionary that maps from termIDs to a 3-tuple of metadata \n",
    "        that is helpful in reading and writing the postings in the index file \n",
    "        to/from disk. This mapping is supposed to be kept in memory. \n",
    "        start_position_in_index_file is the position (in bytes) of the postings \n",
    "        list in the index file\n",
    "        number_of_postings_in_list is the number of postings (docIDs) in the \n",
    "        postings list\n",
    "        length_in_bytes_of_postings_list is the length of the byte \n",
    "        encoding of the postings list\n",
    "    \n",
    "    terms: List[int]\n",
    "        A list of termIDs to remember the order in which terms and their \n",
    "        postings lists were added to index. \n",
    "        \n",
    "        After Python 3.7 we technically no longer need it because a Python dict \n",
    "        is an OrderedDict, but since it is a relatively new feature, we still\n",
    "        maintain backward compatibility with a list to keep track of order of \n",
    "        insertion. \n",
    "    \"\"\"\n",
    "    def __init__(self, index_name, postings_encoding=None, directory=''):\n",
    "        \"\"\"\n",
    "        Parameters\n",
    "        ----------\n",
    "        index_name (str): Name used to store files related to the index\n",
    "        postings_encoding: A class implementing static methods for encoding and \n",
    "            decoding lists of integers. Default is None, which gets replaced\n",
    "            with UncompressedPostings\n",
    "        directory (str): Directory where the index files will be stored\n",
    "        \"\"\"\n",
    "\n",
    "        self.index_file_path = os.path.join(directory, index_name+'.index')\n",
    "        self.metadata_file_path = os.path.join(directory, index_name+'.dict')\n",
    "\n",
    "        if postings_encoding is None:\n",
    "            self.postings_encoding = UncompressedPostings\n",
    "        else:\n",
    "            self.postings_encoding = postings_encoding\n",
    "        self.directory = directory\n",
    "\n",
    "        self.postings_dict = {}\n",
    "        self.terms = []         #Need to keep track of the order in which the \n",
    "                                #terms were inserted. Would be unnecessary \n",
    "                                #from Python 3.7 onwards\n",
    "\n",
    "    def __enter__(self):\n",
    "        \"\"\"Opens the index_file and loads metadata upon entering the context\"\"\"\n",
    "        # Open the index file\n",
    "        self.index_file = open(self.index_file_path, 'rb+')\n",
    "\n",
    "        # Load the postings dict and terms from the metadata file\n",
    "        with open(self.metadata_file_path, 'rb') as f:\n",
    "            self.postings_dict, self.terms = pkl.load(f)\n",
    "            self.term_iter = self.terms.__iter__()                       \n",
    "\n",
    "        return self\n",
    "    \n",
    "    def __exit__(self, exception_type, exception_value, traceback):\n",
    "        \"\"\"Closes the index_file and saves metadata upon exiting the context\"\"\"\n",
    "        # Close the index file\n",
    "        self.index_file.close()\n",
    "        \n",
    "        # Write the postings dict and terms to the metadata file\n",
    "        with open(self.metadata_file_path, 'wb') as f:\n",
    "            pkl.dump([self.postings_dict, self.terms], f)"
   ]
  },
  {
   "cell_type": "markdown",
   "metadata": {},
   "source": [
    "Since we are interacting with a file on disk, we provide `__enter__` and `__exit__` functions, which allow using the `with` statement just like you would with file IO in python (Refer to the [official documentation for context managers](https://docs.python.org/3/library/contextlib.html)).\n",
    "\n",
    "Here is an example of how to use the `InvertedIndexWriter` context manager:\n",
    "\n",
    "```python\n",
    "with InvertedIndexWriter('test', directory='tmp/') as index:\n",
    "    # Some code here\n",
    "```\n",
    "\n",
    "If you are unfamiliar with context managers in python, we would recommend checking out these tutorials ([1](https://jeffknupp.com/blog/2016/03/07/python-with-context-managers/), [2](http://arnavk.com/posts/python-context-managers/)), although it isn't necessary to be able to understand all of it."
   ]
  },
  {
   "cell_type": "markdown",
   "metadata": {},
   "source": [
    "## Indexing\n",
    "\n",
    "> BSBI (i) segments the collection into parts of equal size, (ii) sorts the termID-docID pairs of each part in memory, (iii) stores intermediate sorted results on disk, and (iv) merges all intermediate results into the final index. \n",
    "\n",
    "You should treat each sub-directory as a block, and only load one block in memory at a time when you build your index (note: you will be penalized if you construct the index by loading blocks of larger than one directory in memory at once). Note that we are abstracting away from the operating systems meaning of blocks. You can assume that each block is small enough to be stored in memory.\n",
    "\n",
    "In this section, we introduce the class `BSBIIndex` which we will progressively build. The `index` function provides the skeleton for BSBI and your job is to implement `parse_block`, `invert_write` and `merge` functions in subsequent sections."
   ]
  },
  {
   "cell_type": "code",
   "execution_count": 15,
   "metadata": {},
   "outputs": [],
   "source": [
    "\n",
    "# Do not make any changes here, they will be overwritten while grading\n",
    "class BSBIIndex:\n",
    "    \"\"\" \n",
    "    Attributes\n",
    "    ----------\n",
    "    term_id_map(IdMap): For mapping terms to termIDs\n",
    "    doc_id_map(IdMap): For mapping relative paths of documents (eg \n",
    "        0/3dradiology.stanford.edu_) to docIDs\n",
    "    data_dir(str): Path to data\n",
    "    output_dir(str): Path to output index files\n",
    "    index_name(str): Name assigned to index\n",
    "    postings_encoding: Encoding used for storing the postings.\n",
    "        The default (None) implies UncompressedPostings\n",
    "    \"\"\"\n",
    "    def __init__(self, data_dir, output_dir, index_name = \"BSBI\", \n",
    "                 postings_encoding = None):\n",
    "        self.term_id_map = IdMap()\n",
    "        self.doc_id_map = IdMap()\n",
    "        self.data_dir = data_dir\n",
    "        self.output_dir = output_dir\n",
    "        self.index_name = index_name\n",
    "        self.postings_encoding = postings_encoding\n",
    "\n",
    "        # Stores names of intermediate indices\n",
    "        self.intermediate_indices = []\n",
    "        \n",
    "    def save(self):\n",
    "        \"\"\"Dumps doc_id_map and term_id_map into output directory\"\"\"\n",
    "        \n",
    "        with open(os.path.join(self.output_dir, 'terms.dict'), 'wb') as f:\n",
    "            pkl.dump(self.term_id_map, f)\n",
    "        with open(os.path.join(self.output_dir, 'docs.dict'), 'wb') as f:\n",
    "            pkl.dump(self.doc_id_map, f)\n",
    "    \n",
    "    def load(self):\n",
    "        \"\"\"Loads doc_id_map and term_id_map from output directory\"\"\"\n",
    "        \n",
    "        with open(os.path.join(self.output_dir, 'terms.dict'), 'rb') as f:\n",
    "            self.term_id_map = pkl.load(f)\n",
    "        with open(os.path.join(self.output_dir, 'docs.dict'), 'rb') as f:\n",
    "            self.doc_id_map = pkl.load(f)\n",
    "            \n",
    "    def index(self):\n",
    "        \"\"\"Base indexing code\n",
    "        \n",
    "        This function loops through the data directories, \n",
    "        calls parse_block to parse the documents\n",
    "        calls invert_write, which inverts each block and writes to a new index\n",
    "        then saves the id maps and calls merge on the intermediate indices\n",
    "        \"\"\"\n",
    "        for block_dir_relative in sorted(next(os.walk(self.data_dir))[1]):\n",
    "            td_pairs = self.parse_block(block_dir_relative)\n",
    "            index_id = 'index_'+block_dir_relative\n",
    "            self.intermediate_indices.append(index_id)\n",
    "            with InvertedIndexWriter(index_id, directory=self.output_dir, \n",
    "                                     postings_encoding=\n",
    "                                     self.postings_encoding) as index:\n",
    "                self.invert_write(td_pairs, index)\n",
    "                td_pairs = None\n",
    "        self.save()\n",
    "        with InvertedIndexWriter(self.index_name, directory=self.output_dir, \n",
    "                                 postings_encoding=\n",
    "                                 self.postings_encoding) as merged_index:\n",
    "            with contextlib.ExitStack() as stack:\n",
    "                indices = [stack.enter_context(\n",
    "                    InvertedIndexIterator(index_id, \n",
    "                                          directory=self.output_dir, \n",
    "                                          postings_encoding=\n",
    "                                          self.postings_encoding)) \n",
    "                 for index_id in self.intermediate_indices]\n",
    "                self.merge(indices, merged_index)"
   ]
  },
  {
   "cell_type": "markdown",
   "metadata": {},
   "source": [
    "### Parsing\n",
    "\n",
    "> The function `parse_block`  parses documents into termID-docID pairs and accumulates the pairs in memory until a block of a fixed size is full. We choose the block size to fit comfortably into memory to permit a fast in-memory sort. \n",
    "\n",
    "You should treat each sub-directory as a block; `parse_block` expects the path to the sub-directory which is the block. You should assume that the individual file names are unique within each sub-directory, but not necessarily the case across sub- directories (i.e., the full path of the files are unique).\n",
    "\n",
    "_NB - We are inheriting `BSBIIndex` from `BSBIIndex`, which is just a simple way of adding a new method to an existing class. Please do not be confused, it is simply used as a pedagogical tool to split a class definition within a jupyter notebook and there is no other magic happening here._"
   ]
  },
  {
   "cell_type": "code",
   "execution_count": 16,
   "metadata": {},
   "outputs": [
    {
     "name": "stdout",
     "output_type": "stream",
     "text": [
      "Overwriting submission/parse_block.py\n"
     ]
    }
   ],
   "source": [
    "%%tee submission/parse_block.py\n",
    "class BSBIIndex(BSBIIndex):            \n",
    "    def parse_block(self, block_dir_relative):\n",
    "        \"\"\"Parses a tokenized text file into termID-docID pairs\n",
    "        \n",
    "        Parameters\n",
    "        ----------\n",
    "        block_dir_relative : str\n",
    "            Relative Path to the directory that contains the files for the block\n",
    "        \n",
    "        Returns\n",
    "        -------\n",
    "        List[Tuple[Int, Int]]\n",
    "            Returns all the td_pairs extracted from the block\n",
    "        \n",
    "        Should use self.term_id_map and self.doc_id_map to get termIDs and docIDs.\n",
    "        These persist across calls to parse_block\n",
    "        \"\"\"\n",
    "        ### Begin your code\n",
    "        pairs = []\n",
    "        \n",
    "        filenames = next(os.walk(os.path.join(self.data_dir,block_dir_relative)))[2]\n",
    "        path_prefix = os.path.join(self.data_dir,block_dir_relative)\n",
    "        for filename in filenames:\n",
    "            full_path = os.path.join(path_prefix,filename)\n",
    "            \n",
    "            ### map doc to id\n",
    "            docID = self.doc_id_map[full_path]\n",
    "            \n",
    "            with open(full_path,'r') as f:\n",
    "                lines = f.readlines()\n",
    "                for line in lines:\n",
    "                    line = re.sub(re.compile(r\"\\W+\"),' ',line)\n",
    "                    terms = line.split()\n",
    "                    for term in terms:\n",
    "                        \n",
    "                        ### map term to id\n",
    "                        termID = self.term_id_map[term]\n",
    "                        \n",
    "                        pairs.append(tuple((termID,docID)))\n",
    "        return pairs\n",
    "    \n",
    "        ### End your code"
   ]
  },
  {
   "cell_type": "markdown",
   "metadata": {},
   "source": [
    "See if the function works as expected on the toy data."
   ]
  },
  {
   "cell_type": "code",
   "execution_count": 17,
   "metadata": {},
   "outputs": [
    {
     "name": "stdout",
     "output_type": "stream",
     "text": [
      "i'm fine , thank you\n",
      "\n",
      "hi hi\n",
      "how are you ?\n",
      "\n"
     ]
    }
   ],
   "source": [
    "with open('toy-data/0/fine.txt', 'r') as f:\n",
    "    print(f.read())\n",
    "with open('toy-data/0/hello.txt', 'r') as f:\n",
    "    print(f.read())"
   ]
  },
  {
   "cell_type": "code",
   "execution_count": 18,
   "metadata": {},
   "outputs": [
    {
     "data": {
      "text/plain": [
       "[(0, 4),\n",
       " (1, 4),\n",
       " (2, 4),\n",
       " (3, 4),\n",
       " (4, 4),\n",
       " (5, 5),\n",
       " (5, 5),\n",
       " (6, 5),\n",
       " (7, 5),\n",
       " (4, 5)]"
      ]
     },
     "execution_count": 18,
     "metadata": {},
     "output_type": "execute_result"
    }
   ],
   "source": [
    "BSBI_instance = BSBIIndex(data_dir=toy_dir, output_dir = 'tmp/', index_name = 'toy')\n",
    "BSBI_instance.parse_block('0')\n",
    "BSBI_instance.parse_block('1')\n",
    "BSBI_instance.parse_block('2')"
   ]
  },
  {
   "cell_type": "markdown",
   "metadata": {},
   "source": [
    "Does the `parse_block` method work as expected on a block of the toy data? Write some tests to make sure that is indeed the case (for example, you should make sure that a given word gets the same id each time it appears)."
   ]
  },
  {
   "cell_type": "code",
   "execution_count": 19,
   "metadata": {},
   "outputs": [
    {
     "name": "stdout",
     "output_type": "stream",
     "text": [
      "{'toy-data\\\\0\\\\fine.txt': 0, 'toy-data\\\\0\\\\hello.txt': 1, 'toy-data\\\\1\\\\bye.txt': 2, 'toy-data\\\\1\\\\byebye.txt': 3, 'toy-data\\\\2\\\\fine.txt': 4, 'toy-data\\\\2\\\\hello.txt': 5}\n",
      "{'i': 0, 'm': 1, 'fine': 2, 'thank': 3, 'you': 4, 'hi': 5, 'how': 6, 'are': 7, 'good': 8, 'to': 9, 'see': 10, 'bye': 11, 'later': 12}\n"
     ]
    }
   ],
   "source": [
    "### Begin your code\n",
    "print(BSBI_instance.doc_id_map.str_to_id)\n",
    "print(BSBI_instance.term_id_map.str_to_id)\n",
    "\n",
    "### End your code"
   ]
  },
  {
   "cell_type": "markdown",
   "metadata": {},
   "source": [
    "### Inversion\n",
    "\n",
    "> The block is then inverted and written to disk. Inversion involves two steps. First, we sort the termID-docID pairs. Next, we collect all termID-docID pairs with the same termID into a postings list, where a posting is simply a docID. The result, an inverted index for the block we have just read, is then written to disk.\n",
    "\n",
    "In this section we add the function `invert_write` which does exactly this. \n",
    "\n",
    "However, we first need to implement the class `InvertedIndexWriter`. This class provides an append function, just like a list, however the postings_list isn't stored in memory but is directly written to disk."
   ]
  },
  {
   "cell_type": "code",
   "execution_count": 20,
   "metadata": {},
   "outputs": [
    {
     "name": "stdout",
     "output_type": "stream",
     "text": [
      "Overwriting submission/inverted_index_writer.py\n"
     ]
    }
   ],
   "source": [
    "%%tee submission/inverted_index_writer.py\n",
    "class InvertedIndexWriter(InvertedIndex):\n",
    "    \"\"\"\"\"\"\n",
    "    def __enter__(self):\n",
    "        self.index_file = open(self.index_file_path, 'wb+')              \n",
    "        return self\n",
    "\n",
    "    def append(self, term, postings_list):\n",
    "        \"\"\"Appends the term and postings_list to end of the index file.\n",
    "        \n",
    "        This function does three things, \n",
    "        1. Encodes the postings_list using self.postings_encoding\n",
    "        2. Stores metadata in the form of self.terms and self.postings_dict\n",
    "           Note that self.postings_dict maps termID to a 3 tuple of \n",
    "           (start_position_in_index_file, \n",
    "           number_of_postings_in_list, \n",
    "           length_in_bytes_of_postings_list)\n",
    "        3. Appends the bytestream to the index file on disk\n",
    "\n",
    "        Hint: You might find it helpful to read the Python I/O docs\n",
    "        (https://docs.python.org/3/tutorial/inputoutput.html) for\n",
    "        information about appending to the end of a file.\n",
    "        \n",
    "        Parameters\n",
    "        ----------\n",
    "        term:\n",
    "            term or termID is the unique identifier for the term\n",
    "        postings_list: List[Int]\n",
    "            List of docIDs where the term appears\n",
    "        \"\"\"\n",
    "        ### Begin your code   \n",
    "        ### set self.terms\n",
    "        self.terms.append(term)\n",
    "        \n",
    "        length = len(postings_list)\n",
    "        postings_list_encoded = self.postings_encoding.encode(postings_list)\n",
    "        size = len(self.postings_encoding.encode(postings_list))\n",
    "        \n",
    "        ### set self.postings_dict\n",
    "        self.index_file.seek(0,2)\n",
    "        start_position = self.index_file.tell()\n",
    "        self.postings_dict[term] = (start_position,length,size)        \n",
    "        \n",
    "        ### write self.index_file from the end of the file\n",
    "        self.index_file.seek(0,2)\n",
    "        self.index_file.write(postings_list_encoded)\n",
    "        \n",
    "\n",
    "        ### End your code"
   ]
  },
  {
   "cell_type": "markdown",
   "metadata": {},
   "source": [
    "Even though we haven't written the classes which read the index, we can still test the implementation as follows. Make sure you pass the asserts before moving forward"
   ]
  },
  {
   "cell_type": "code",
   "execution_count": 21,
   "metadata": {},
   "outputs": [],
   "source": [
    "with InvertedIndexWriter('test', directory='tmp/') as index:\n",
    "    index.append(1, [2, 3, 4])\n",
    "    index.append(2, [3, 4, 5])\n",
    "    index.index_file.seek(0)\n",
    "    assert index.terms == [1,2], \"terms sequence incorrect\"\n",
    "    #print(index.postings_dict)\n",
    "    #print(len(UncompressedPostings.encode([2,3,4])))\n",
    "    assert index.postings_dict == {1: (0, 3, len(UncompressedPostings.encode([2,3,4]))), \n",
    "                                   2: (len(UncompressedPostings.encode([2,3,4])), 3, \n",
    "                                       len(UncompressedPostings.encode([3,4,5])))}, \"postings_dict incorrect\"\n",
    "    assert UncompressedPostings.decode(index.index_file.read()) == [2, 3, 4, 3, 4, 5], \"postings on disk incorrect\""
   ]
  },
  {
   "cell_type": "markdown",
   "metadata": {},
   "source": [
    "Now we implement `invert_write`, which takes in the td_pairs created with parse_block. We use `InvertedIndexWriter` to write them to disk."
   ]
  },
  {
   "cell_type": "code",
   "execution_count": 22,
   "metadata": {},
   "outputs": [
    {
     "name": "stdout",
     "output_type": "stream",
     "text": [
      "Overwriting submission/invert_write.py\n"
     ]
    }
   ],
   "source": [
    "%%tee submission/invert_write.py\n",
    "class BSBIIndex(BSBIIndex):\n",
    "    def invert_write(self, td_pairs, index):\n",
    "        \"\"\"Inverts td_pairs into postings_lists and writes them to the given index\n",
    "        \n",
    "        Parameters\n",
    "        ----------\n",
    "        td_pairs: List[Tuple[Int, Int]]\n",
    "            List of termID-docID pairs\n",
    "        index: InvertedIndexWriter\n",
    "            Inverted index on disk corresponding to the block       \n",
    "        \"\"\"\n",
    "        ### Begin your code\n",
    "        postings_lists = {}\n",
    "        \n",
    "        ### construct postings_list\n",
    "        for termID,docID in td_pairs:\n",
    "            if termID in postings_lists:\n",
    "                if docID not in postings_lists[termID]:\n",
    "                    postings_lists[termID].append(docID)\n",
    "            else:\n",
    "                postings_lists[termID] = [docID]\n",
    "        \n",
    "        \n",
    "        ### for debug\n",
    "        #print('postings_list:',postings_lists)\n",
    "        \n",
    "        for termID,postings_list in postings_lists.items():\n",
    "            index.append(termID,sorted(postings_list))\n",
    "\n",
    "        ### End your code"
   ]
  },
  {
   "cell_type": "markdown",
   "metadata": {},
   "source": [
    "To test this on the toy data, we can read a block and see what the inverted index contains. Write some tests like you saw for the `InvertedIndexWriter`."
   ]
  },
  {
   "cell_type": "code",
   "execution_count": 23,
   "metadata": {
    "scrolled": true
   },
   "outputs": [
    {
     "name": "stdout",
     "output_type": "stream",
     "text": [
      "[(0, 0), (1, 0), (2, 0), (3, 0), (4, 0), (5, 1), (5, 1), (6, 1), (7, 1), (4, 1)]\n",
      "[0, 0, 0, 0, 0, 1, 1, 1, 1]\n",
      "{0: (0, 1, 4), 1: (4, 1, 4), 2: (8, 1, 4), 3: (12, 1, 4), 4: (16, 2, 8), 5: (24, 1, 4), 6: (28, 1, 4), 7: (32, 1, 4)}\n",
      "[0, 1, 2, 3, 4, 5, 6, 7]\n",
      "[(8, 2), (9, 2), (10, 2), (4, 2), (11, 2), (10, 2), (4, 2), (12, 2), (11, 3), (11, 3), (11, 3)]\n",
      "[2, 2, 2, 2, 2, 3, 2]\n",
      "{8: (0, 1, 4), 9: (4, 1, 4), 10: (8, 1, 4), 4: (12, 1, 4), 11: (16, 2, 8), 12: (24, 1, 4)}\n",
      "[8, 9, 10, 4, 11, 12]\n",
      "[(0, 4), (1, 4), (2, 4), (3, 4), (4, 4), (5, 5), (5, 5), (6, 5), (7, 5), (4, 5)]\n",
      "[4, 4, 4, 4, 4, 5, 5, 5, 5]\n",
      "{0: (0, 1, 4), 1: (4, 1, 4), 2: (8, 1, 4), 3: (12, 1, 4), 4: (16, 2, 8), 5: (24, 1, 4), 6: (28, 1, 4), 7: (32, 1, 4)}\n",
      "[0, 1, 2, 3, 4, 5, 6, 7]\n"
     ]
    }
   ],
   "source": [
    "### Begin your code\n",
    "BSBI_instance = BSBIIndex(data_dir=toy_dir, output_dir = 'tmp/', index_name = 'toy')\n",
    "for block_dir_relative in ['0','1','2']:\n",
    "    td_pairs = BSBI_instance.parse_block(block_dir_relative)\n",
    "    print(td_pairs)\n",
    "    index_id = 'index_'+block_dir_relative\n",
    "    with InvertedIndexWriter(index_id, directory='tmp/') as index:\n",
    "        BSBI_instance.invert_write(td_pairs,index)\n",
    "        index.index_file.seek(0,0)\n",
    "        print(UncompressedPostings.decode(index.index_file.read()))\n",
    "        print(index.postings_dict)\n",
    "        print(index.terms)\n",
    "\n",
    "\n",
    "### End your code"
   ]
  },
  {
   "cell_type": "markdown",
   "metadata": {},
   "source": [
    "### Merging\n",
    "\n",
    "> The algorithm simultaneously merges the ten blocks into one large merged index. To do the merging, we open all block files simultaneously, and maintain small read buffers for the ten blocks we are reading and a write buffer for the final merged index we are writing. \n",
    "\n",
    "The iterator paradigm in Python lends itself naturally to our need of maintaining a small read buffer. We can iterate through the file while reading just one postings list at a time from the disk. We subclass `InvertedIndex` into `InvertedIndexIterator` which does the iteration bit. "
   ]
  },
  {
   "cell_type": "code",
   "execution_count": 24,
   "metadata": {},
   "outputs": [
    {
     "name": "stdout",
     "output_type": "stream",
     "text": [
      "Overwriting submission/inverted_index_iterator.py\n"
     ]
    }
   ],
   "source": [
    "%%tee submission/inverted_index_iterator.py\n",
    "class InvertedIndexIterator(InvertedIndex):\n",
    "    \"\"\"\"\"\"\n",
    "    def __enter__(self):\n",
    "        \"\"\"Adds an initialization_hook to the __enter__ function of super class\n",
    "        \"\"\"\n",
    "        super().__enter__()\n",
    "        self._initialization_hook()\n",
    "        return self\n",
    "\n",
    "    def _initialization_hook(self):\n",
    "        \"\"\"Use this function to initialize the iterator\n",
    "        \"\"\"\n",
    "        ### Begin your code\n",
    "        self.already_got = 0\n",
    "\n",
    "        ### End your code\n",
    "\n",
    "    def __iter__(self): \n",
    "        return self\n",
    "    \n",
    "    def __next__(self):\n",
    "        \"\"\"Returns the next (term, postings_list) pair in the index.\n",
    "        \n",
    "        Note: This function should only read a small amount of data from the \n",
    "        index file. In particular, you should not try to maintain the full \n",
    "        index file in memory.\n",
    "        \"\"\"\n",
    "        ### Begin your code\n",
    "        ### for debug\n",
    "        #print('call __next__')\n",
    "        \n",
    "        if self.already_got >= len(self.terms):\n",
    "            raise StopIteration\n",
    "        \n",
    "        term = self.terms[self.already_got]\n",
    "        \n",
    "        start_position,length,size = self.postings_dict[term]\n",
    "        self.index_file.seek(start_position,0)\n",
    "        encoded_data = self.index_file.read(size)\n",
    "        postings_list = self.postings_encoding.decode(encoded_data)\n",
    "        \n",
    "        self.already_got += 1\n",
    "        return (term,postings_list)\n",
    "        \n",
    "\n",
    "        ### End your code\n",
    "\n",
    "    def delete_from_disk(self):\n",
    "        \"\"\"Marks the index for deletion upon exit. Useful for temporary indices\n",
    "        \"\"\"\n",
    "        self.delete_upon_exit = True\n",
    "\n",
    "    def __exit__(self, exception_type, exception_value, traceback):\n",
    "        \"\"\"Delete the index file upon exiting the context along with the\n",
    "        functions of the super class __exit__ function\"\"\"\n",
    "        self.index_file.close()\n",
    "        if hasattr(self, 'delete_upon_exit') and self.delete_upon_exit:\n",
    "            os.remove(self.index_file_path)\n",
    "            os.remove(self.metadata_file_path)\n",
    "        else:\n",
    "            with open(self.metadata_file_path, 'wb') as f:\n",
    "                pkl.dump([self.postings_dict, self.terms], f)"
   ]
  },
  {
   "cell_type": "markdown",
   "metadata": {},
   "source": [
    "Let's test this by first creating an index with the `InvertedIndexWriter` and then iterating through it. Write a few small test cases to see if it works. At the very least, you should write a test which manually constructs a small inverted index, writes them to disk with an `InvertedIndexWriter`, then uses an `InvertedIndexIterator` to iterate over the inverted index."
   ]
  },
  {
   "cell_type": "code",
   "execution_count": 25,
   "metadata": {},
   "outputs": [
    {
     "name": "stdout",
     "output_type": "stream",
     "text": [
      "{0: (0, 1, 4), 1: (4, 1, 4), 2: (8, 1, 4), 3: (12, 1, 4), 4: (16, 2, 8), 5: (24, 1, 4), 6: (28, 1, 4), 7: (32, 1, 4)}\n",
      "(0, [0])\n",
      "(1, [0])\n",
      "(2, [0])\n",
      "(3, [0])\n",
      "(4, [0, 1])\n",
      "(5, [1])\n",
      "(6, [1])\n",
      "(7, [1])\n",
      "{8: (0, 1, 4), 9: (4, 1, 4), 10: (8, 1, 4), 4: (12, 1, 4), 11: (16, 2, 8), 12: (24, 1, 4)}\n",
      "(8, [2])\n",
      "(9, [2])\n",
      "(10, [2])\n",
      "(4, [2])\n",
      "(11, [2, 3])\n",
      "(12, [2])\n",
      "{0: (0, 1, 4), 1: (4, 1, 4), 2: (8, 1, 4), 3: (12, 1, 4), 4: (16, 2, 8), 5: (24, 1, 4), 6: (28, 1, 4), 7: (32, 1, 4)}\n",
      "(0, [4])\n",
      "(1, [4])\n",
      "(2, [4])\n",
      "(3, [4])\n",
      "(4, [4, 5])\n",
      "(5, [5])\n",
      "(6, [5])\n",
      "(7, [5])\n"
     ]
    }
   ],
   "source": [
    "### Begin your code\n",
    "BSBI_instance = BSBIIndex(data_dir=toy_dir, output_dir = 'tmp/', index_name = 'toy')\n",
    "for block_dir_relative in ['0','1','2']:\n",
    "    td_pairs = BSBI_instance.parse_block(block_dir_relative)\n",
    "    index_id = 'index_'+block_dir_relative\n",
    "    with InvertedIndexWriter(index_id, directory='tmp/') as index:\n",
    "        BSBI_instance.invert_write(td_pairs,index)\n",
    "        print(index.postings_dict)\n",
    "    with InvertedIndexIterator(index_id, directory='tmp/') as iterindex:\n",
    "        #iterindex.delete_from_disk()\n",
    "        for i in iterindex:\n",
    "            print(i)\n",
    "        \n",
    "    \n",
    "\n",
    "### End your code"
   ]
  },
  {
   "cell_type": "markdown",
   "metadata": {},
   "source": [
    "> During merging, in each iteration, we select the lowest termID that has not been processed yet using a priority queue or a similar data structure. All postings lists for this termID are read and merged, and the merged list is written back to disk. Each read buffer is refilled from its file when necessary.\n",
    "\n",
    "We'll use the `InvertedIndexIterator` to do the reading part and `InvertedIndexWriter` to write the merged postings list. \n",
    "\n",
    "Note that we've been opening each inverted index using `with` statement, but now we need to do that programmatically. You can see that we've used `contextlib` ([documentation](https://docs.python.org/3/library/contextlib.html#contextlib.ExitStack)) for that in the provided `index` function of `BSBIIndex` base class. Your task is to **write the logic** for merging *opened* `InvertedIndexIterator` objects and writing one postings list at a time into into a single `InvertedIndexWriter` object. \n",
    "\n",
    "Since we know that the postings are sorted, we can appropriately merge them in sorted order in linear time. In fact `heapq` ([documentation](https://docs.python.org/3.0/library/heapq.html)) is a standard python module that provides an implementation of the heap queue algorithm. In particular it contains a `heapq.merge` utility function which merges multiple sorted inputs into a single sorted output and returns an iterator over the sorted values. Not only can this be handy with merging postings lists, but also with merging the inverted indices. \n",
    "\n",
    "To get you started on using the `heapq.merge` function, we've provided a sample usage of the function. The two lists contain animals/birds sorted by their average life span. We want to merge the two lists."
   ]
  },
  {
   "cell_type": "code",
   "execution_count": 26,
   "metadata": {},
   "outputs": [
    {
     "name": "stdout",
     "output_type": "stream",
     "text": [
      "('Giraffe', 28)\n",
      "('Rhinoceros', 40)\n",
      "('Gray Birch', 50)\n",
      "('Indian Elephant', 70)\n",
      "('Black Willow', 70)\n",
      "('Golden Eagle', 80)\n",
      "('Basswood', 100)\n",
      "('Box turtle', 123)\n",
      "('Bald Cypress', 600)\n"
     ]
    }
   ],
   "source": [
    "import heapq\n",
    "animal_lifespans = [('Giraffe', 28), \n",
    "                   ('Rhinoceros', 40), \n",
    "                   ('Indian Elephant', 70), \n",
    "                   ('Golden Eagle', 80), \n",
    "                   ('Box turtle', 123)]\n",
    "\n",
    "tree_lifespans = [('Gray Birch', 50), \n",
    "                  ('Black Willow', 70), \n",
    "                  ('Basswood', 100),\n",
    "                  ('Bald Cypress', 600)]\n",
    "\n",
    "lifespan_lists = [animal_lifespans, tree_lifespans]\n",
    "\n",
    "for merged_item in heapq.merge(*lifespan_lists, key=lambda x: x[1]):\n",
    "    print(merged_item)"
   ]
  },
  {
   "cell_type": "markdown",
   "metadata": {},
   "source": [
    "Notice the use of `*` to unpack `lifespan_lists` as arguments and `lambda` function to reprsent the key to perform the soring with. If you are unfamiliar you can check documentation ([unpacking lists](https://docs.python.org/3/tutorial/controlflow.html#unpacking-argument-lists), [lambda expressions](https://docs.python.org/3/tutorial/controlflow.html#lambda-expressions)) or tutorials ([unpacking lists](https://www.geeksforgeeks.org/packing-and-unpacking-arguments-in-python/), [lambda_expressions](https://www.afternerd.com/blog/python-lambdas/))"
   ]
  },
  {
   "cell_type": "code",
   "execution_count": 27,
   "metadata": {},
   "outputs": [
    {
     "name": "stdout",
     "output_type": "stream",
     "text": [
      "Overwriting submission/merge.py\n"
     ]
    }
   ],
   "source": [
    "%%tee submission/merge.py\n",
    "\n",
    "import heapq\n",
    "class BSBIIndex(BSBIIndex):\n",
    "    def merge(self, indices, merged_index):\n",
    "        \"\"\"Merges multiple inverted indices into a single index\n",
    "        \n",
    "        Parameters\n",
    "        ----------\n",
    "        indices: List[InvertedIndexIterator]\n",
    "            A list of InvertedIndexIterator objects, each representing an\n",
    "            iterable inverted index for a block\n",
    "        merged_index: InvertedIndexWriter\n",
    "            An instance of InvertedIndexWriter object into which each merged \n",
    "            postings list is written out one at a time\n",
    "        \"\"\"\n",
    "        ### Begin your code\n",
    "        term_postings_list = heapq.merge(*indices,key=lambda td:td[0])\n",
    "        #print(list(term_postings_list))\n",
    "        postings_lists = {}\n",
    "        for termID,postings_list in term_postings_list:\n",
    "            if termID not in postings_lists:\n",
    "                postings_lists[termID] = postings_list\n",
    "            else:\n",
    "                postings_lists[termID].extend(postings_list)\n",
    "        for termID,postings_list in postings_lists.items():\n",
    "            merged_index.append(termID,sorted(set(postings_list)))\n",
    "        ### End your code"
   ]
  },
  {
   "cell_type": "markdown",
   "metadata": {},
   "source": [
    "First make sure it works without errors on toy data"
   ]
  },
  {
   "cell_type": "code",
   "execution_count": 28,
   "metadata": {},
   "outputs": [],
   "source": [
    "BSBI_instance = BSBIIndex(data_dir=toy_dir, output_dir = 'toy_output_dir', )\n",
    "BSBI_instance.index()"
   ]
  },
  {
   "cell_type": "markdown",
   "metadata": {},
   "source": [
    "Now lets index the full corpus"
   ]
  },
  {
   "cell_type": "code",
   "execution_count": 29,
   "metadata": {},
   "outputs": [
    {
     "name": "stdout",
     "output_type": "stream",
     "text": [
      "already construct pa1-data postings list\n"
     ]
    }
   ],
   "source": [
    "if os.path.isfile('output_dir/BSBI.dict'):\n",
    "    print('already construct pa1-data postings list')\n",
    "else:\n",
    "    BSBI_instance = BSBIIndex(data_dir='pa1-data', output_dir = 'output_dir', )\n",
    "    BSBI_instance.index()"
   ]
  },
  {
   "cell_type": "markdown",
   "metadata": {},
   "source": [
    "If you're having errors with just the merging part of it, you can use the following code to debug it. "
   ]
  },
  {
   "cell_type": "code",
   "execution_count": 30,
   "metadata": {},
   "outputs": [
    {
     "data": {
      "text/plain": [
       "\"\\nBSBI_instance = BSBIIndex(data_dir='pa1-data', output_dir = 'output_dir', )\\nBSBI_instance.intermediate_indices = ['index_'+str(i) for i in range(10)]\\nwith InvertedIndexWriter(BSBI_instance.index_name, directory=BSBI_instance.output_dir, postings_encoding=BSBI_instance.postings_encoding) as merged_index:\\n    with contextlib.ExitStack() as stack:\\n        indices = [stack.enter_context(InvertedIndexIterator(index_id, directory=BSBI_instance.output_dir, postings_encoding=BSBI_instance.postings_encoding)) for index_id in BSBI_instance.intermediate_indices]\\n        BSBI_instance.merge(indices, merged_index)\\n\""
      ]
     },
     "execution_count": 30,
     "metadata": {},
     "output_type": "execute_result"
    }
   ],
   "source": [
    "\"\"\"\n",
    "BSBI_instance = BSBIIndex(data_dir='pa1-data', output_dir = 'output_dir', )\n",
    "BSBI_instance.intermediate_indices = ['index_'+str(i) for i in range(10)]\n",
    "with InvertedIndexWriter(BSBI_instance.index_name, directory=BSBI_instance.output_dir, postings_encoding=BSBI_instance.postings_encoding) as merged_index:\n",
    "    with contextlib.ExitStack() as stack:\n",
    "        indices = [stack.enter_context(InvertedIndexIterator(index_id, directory=BSBI_instance.output_dir, postings_encoding=BSBI_instance.postings_encoding)) for index_id in BSBI_instance.intermediate_indices]\n",
    "        BSBI_instance.merge(indices, merged_index)\n",
    "\"\"\""
   ]
  },
  {
   "cell_type": "markdown",
   "metadata": {},
   "source": [
    "## Boolean conjunctive retrieval\n",
    "\n",
    "We'll be implementing a function `retrieve` to BSBIIndex, which given a query string consisting of space separated tokens, returns a list of documents that contain each of the tokens in the query. However, we do not want to be iterating through the index nor loading the entire index to find the relevant terms. \n",
    "\n",
    "First we'll implement `InvertedIndexMapper` which subclasses `InvertedIndex` to add functionality for retrieving postings corresponding to a particular term by seeking to that location in the file."
   ]
  },
  {
   "cell_type": "code",
   "execution_count": 31,
   "metadata": {},
   "outputs": [
    {
     "name": "stdout",
     "output_type": "stream",
     "text": [
      "Overwriting submission/inverted_index_mapper.py\n"
     ]
    }
   ],
   "source": [
    "%%tee submission/inverted_index_mapper.py\n",
    "class InvertedIndexMapper(InvertedIndex):\n",
    "    def __getitem__(self, key):\n",
    "        return self._get_postings_list(key)\n",
    "    \n",
    "    def _get_postings_list(self, term):\n",
    "        \"\"\"Gets a postings list (of docIds) for `term`.\n",
    "        \n",
    "        This function should not iterate through the index file.\n",
    "        I.e., it should only have to read the bytes from the index file\n",
    "        corresponding to the postings list for the requested term.\n",
    "        \"\"\"\n",
    "        ### Begin your code\n",
    "        start_position,length,size = self.postings_dict[term]\n",
    "        self.index_file.seek(start_position,0)\n",
    "        encoded_data = self.index_file.read(size)\n",
    "        postings_list = self.postings_encoding.decode(encoded_data)\n",
    "        return postings_list\n",
    "\n",
    "        ### End your code"
   ]
  },
  {
   "cell_type": "markdown",
   "metadata": {},
   "source": [
    "Write a few tests to check your `_get_postings_list` implementation."
   ]
  },
  {
   "cell_type": "code",
   "execution_count": 32,
   "metadata": {},
   "outputs": [
    {
     "name": "stdout",
     "output_type": "stream",
     "text": [
      "326404\n",
      "['3d', 'radiology', 'lab', 'stanford', 'university', 'school', 'of', 'medicine', 'and', 'quantitative', 'imaging', 'in', 'the', 'department', 'search', 'this', 'site', 'only', 'medical', 'sites', 'ways', 'to', 'give', 'find', 'a', 'person', 'alumni', 'lane', 'library', 'about']\n",
      "[0, 2, 4, 117, 118, 119, 120, 121, 122, 123, 124, 125, 126, 127, 128, 129, 130, 199, 245, 246, 247, 248, 249, 250, 285, 305, 306, 307, 308, 309, 310, 312, 313, 433, 435, 446, 462, 466, 468, 474, 486, 496, 519, 525, 555, 653, 714, 733, 950, 971, 1020, 1032, 1033, 1084, 1115, 1117, 1130, 1173, 1183, 1184, 1198, 1201, 1207, 1362, 1387, 1388, 1402, 1414, 1415, 1427, 1431, 1440, 1448, 1463, 1466, 1643, 1650, 1712, 1714, 1778, 1826, 1853, 1862, 1877, 1898, 1913, 1922, 1940, 1945, 1949, 1999, 2024, 2025, 2026, 2051, 2091, 2171, 2188, 2197, 2211, 2240, 2254, 2328, 2374, 2377, 2378, 2379, 2380, 2381, 2382, 2384, 2385, 2386, 2387, 2388, 2389, 2390, 2391, 2392, 2412, 2542, 2810, 2844, 2847, 3300, 3302, 3341, 3344, 3345, 3347, 3374, 3444, 3446, 3450, 3458, 3461, 3462, 3470, 3471, 3505, 3506, 3507, 3519, 3520, 3522, 3524, 3582, 3585, 3614, 3622, 3636, 3640, 3646, 3647, 3648, 3649, 3669, 3678, 3690, 3704, 3707, 3708, 3709, 3750, 3764, 3787, 3875, 3876, 3877, 3878, 3879, 3880, 3881, 3882, 3883, 3884, 3885, 3886, 3890, 3897, 3898, 3900, 3901, 3902, 3903, 3904, 3905, 3906, 3907, 3908, 3909, 3910, 3911, 3912, 3913, 3914, 3915, 3916, 3917, 3918, 3919, 3920, 3921, 3922, 3923, 3924, 3925, 3926, 3927, 3928, 3929, 3930, 3931, 3932, 3933, 3934, 3935, 3936, 3937, 3938, 3939, 3940, 3941, 3942, 3943, 3944, 3945, 3946, 3947, 3948, 3949, 3950, 3956, 3957, 3958, 3959, 3962, 3967, 3969, 3971, 4080, 4114, 4131, 4140, 4145, 4186, 4188, 4191, 4192, 4193, 4195, 4196, 4197, 4198, 4199, 4200, 4201, 4202, 4203, 4204, 4206, 4207, 4208, 4213, 4214, 4220, 4235, 4246, 4261, 4262, 4270, 4281, 4282, 4283, 4284, 4285, 4286, 4287, 4288, 4289, 4290, 4291, 4292, 4293, 4294, 4295, 4296, 4297, 4298, 4299, 4301, 4302, 4303, 4304, 4305, 4306, 4307, 4308, 4309, 4310, 4311, 4312, 4313, 4314, 4315, 4316, 4317, 4318, 4319, 4320, 4321, 4322, 4323, 4324, 4325, 4326, 4327, 4328, 4329, 4330, 4331, 4332, 4333, 4334, 4335, 4336, 4337, 4338, 4339, 4340, 4341, 4342, 4343, 4344, 4345, 4346, 4347, 4348, 4349, 4350, 4351, 4352, 4353, 4366, 4367, 4368, 4369, 4370, 4371, 4372, 4373, 4374, 4375, 4376, 4377, 4378, 4379, 4380, 4381, 4382, 4384, 4386, 4388, 4389, 4390, 4391, 4392, 4393, 4394, 4395, 4396, 4397, 4398, 4399, 4400, 4401, 4402, 4403, 4404, 4405, 4406, 4407, 4408, 4410, 4414, 4415, 4421, 4422, 4424, 4425, 4426, 4427, 4428, 4429, 4430, 4431, 4432, 4433, 4434, 4435, 4436, 4437, 4438, 4439, 4440, 4441, 4442, 4444, 4446, 4447, 4448, 4449, 4450, 4452, 4453, 4454, 4455, 4456, 4457, 4458, 4459, 4460, 4461, 4462, 4463, 4464, 4465, 4466, 4467, 4470, 4471, 4472, 4475, 4477, 4496, 4504, 4580, 4587, 4615, 4623, 4640, 4641, 4642, 4643, 4644, 4645, 4646, 4647, 4648, 4649, 4650, 4651, 4652, 4653, 4654, 4655, 4656, 4657, 4658, 4659, 4660, 4661, 4662, 4663, 4664, 4665, 4666, 4667, 4668, 4669, 4670, 4671, 4672, 4673, 4674, 4675, 4676, 4677, 4678, 4679, 4680, 4681, 4682, 4683, 4684, 4685, 4694, 4695, 4698, 4699, 4700, 4717, 4721, 4733, 4753, 4770, 4776, 4801, 4807, 4859, 4864, 4881, 4885, 4887, 4908, 4917, 4921, 4928, 4972, 4982, 4984, 4994, 4999, 5003, 5004, 5007, 5036, 5037, 5038, 5039, 5042, 5043, 5044, 5051, 5073, 5091, 5094, 5176, 5177, 5179, 5287, 5288, 5289, 5290, 5291, 5292, 5293, 5294, 5295, 5296, 5297, 5298, 5299, 5300, 5301, 5302, 5303, 5304, 5305, 5306, 5307, 5308, 5309, 5310, 5311, 5312, 5313, 5314, 5315, 5316, 5317, 5318, 5326, 5331, 5334, 5335, 5336, 5337, 5340, 5341, 5342, 5343, 5344, 5345, 5346, 5347, 5348, 5349, 5350, 5351, 5352, 5353, 5354, 5355, 5356, 5357, 5358, 5359, 5362, 5363, 5366, 5367, 5374, 5377, 5380, 5383, 5384, 5386, 5387, 5388, 5389, 5392, 5395, 5399, 5400, 5401, 5405, 5406, 5407, 5414, 5417, 5428, 5436, 5438, 5458, 5465, 5473, 5474, 5476, 5478, 5483, 5484, 5486, 5487, 5491, 5496, 5498, 5509, 5510, 5518, 5520, 5523, 5534, 5546, 5548, 5549, 5554, 5565, 5570, 5582, 5583, 5586, 5593, 5594, 5605, 5606, 5610, 5611, 5612, 5615, 5616, 5617, 5618, 5619, 5620, 5621, 5622, 5623, 5624, 5625, 5626, 5627, 5637, 5638, 5645, 5692, 5693, 5694, 5695, 5696, 5697, 5698, 5699, 5700, 5701, 5702, 5703, 5704, 5705, 5706, 5707, 5739, 5827, 5889, 5890, 5891, 5896, 5898, 5900, 5916, 5917, 5918, 5919, 5927, 5931, 5933, 5934, 5936, 5937, 5938, 5939, 5940, 5944, 5945, 5946, 5950, 5951, 5952, 5953, 5955, 5963, 5967, 5968, 5969, 5970, 5972, 5973, 5974, 5975, 5976, 5977, 5979, 5980, 5981, 5985, 6053, 6055, 6059, 6070, 6071, 6072, 6073, 6074, 6075, 6076, 6077, 6078, 6079, 6080, 6081, 6082, 6083, 6084, 6085, 6086, 6087, 6088, 6089, 6090, 6091, 6092, 6097, 6107, 6108, 6109, 6110, 6111, 6112, 6113, 6114, 6115, 6116, 6120, 6156, 6157, 6214, 6219, 6229, 6241, 6242, 6243, 6244, 6245, 6246, 6248, 6249, 6277, 6914, 6915, 6916, 6918, 6919, 6920, 7064, 7077, 7265, 7274, 7486, 7487, 7494, 7495, 7496, 7497, 7500, 7501, 7502, 7507, 7539, 7558, 7559, 7564, 7579, 7596, 7598, 7603, 7605, 7608, 7687, 7688, 7689, 7690, 7696, 7697, 7698, 7699, 7700, 7701, 7702, 7703, 7704, 7705, 7706, 7707, 7708, 7709, 7710, 7711, 7712, 7713, 7714, 7715, 7716, 7717, 7718, 7719, 7720, 7721, 7722, 7723, 7727, 7730, 7762, 7763, 7764, 7792, 7793, 7795, 7796, 7798, 7799, 7800, 7801, 7847, 7848, 7862, 7966, 7967, 7971, 7972, 7973, 7974, 7975, 7976, 7977, 7978, 8058, 8105, 8175, 8176, 8177, 8178, 8179, 8180, 8181, 8182, 8183, 8184, 8185, 8186, 8188, 8189, 8190, 8191, 8192, 8193, 8194, 8195, 8196, 8197, 8198, 8199, 8200, 8212, 8245, 8246, 8247, 8248, 8249, 8250, 8251, 8252, 8253, 8254, 8255, 8256, 8257, 8258, 8259, 8260, 8261, 8262, 8263, 8264, 8265, 8266, 8267, 8268, 8269, 8270, 8271, 8272, 8273, 8274, 8276, 8312, 8313, 8314, 8315, 8316, 8317, 8318, 8319, 8321, 8322, 8323, 8324, 8325, 8326, 8327, 8328, 8329, 8330, 8331, 8332, 8333, 8705, 8717, 8732, 8735, 8757, 8766, 8774, 8778, 8780, 8782, 8787, 8792, 8793, 8800, 8806, 8818, 8832, 8851, 8852, 8857, 8859, 8863, 8894, 8914, 8934, 8971, 9168, 9169, 9170, 9171, 9172, 9173, 9174, 9176, 9177, 9178, 9179, 9180, 9181, 9182, 9183, 9184, 9185, 9186, 9188, 9189, 9190, 9191, 9192, 9193, 9194, 9200, 9252, 9329, 9346, 9348, 9368, 9378, 9409, 9410, 9411, 9412, 9572, 9661, 10134, 10141, 10150, 10152, 10154, 10304, 10375, 10426, 10518, 10578, 10580, 10596, 10603, 10710, 10770, 10771, 10776, 10817, 10863, 10891, 11396, 11500, 11526, 11560, 11610, 11611, 11612, 11613, 11614, 11615, 11616, 11617, 11618, 11619, 11620, 11626, 11627, 11628, 11730, 11733, 11734, 11735, 11741, 11742, 11745, 11792, 11793, 11965, 11966, 11967, 11968, 11969, 11975, 11990, 11991, 12006, 12027, 12045, 12046, 12047, 12048, 12049, 12050, 12051, 12052, 12053, 12062, 12063, 12085, 12086, 12111, 12112, 12137, 12138, 12140, 12141, 12142, 12143, 12144, 12145, 12147, 12149, 12150, 12152, 12153, 12158, 12162, 12163, 12270, 12271, 12272, 12273, 12274, 12275, 12276, 12277, 12280, 12281, 12418, 12535, 12556, 12557, 12679, 12681, 12683, 12688, 12749, 12765, 12906, 12921, 12924, 12929, 12946, 12947, 12964, 12971, 13036, 13056, 13072, 13183, 13185, 13191, 13217, 13218, 13219, 13220, 13221, 13223, 13224, 13225, 13226, 13227, 13228, 13233, 13239, 13255, 13309, 13310, 13346, 13432, 13462, 13513, 13524, 13525, 13808, 13852, 13943, 13980, 14267, 14271, 14286, 14290, 14298, 14334, 14336, 14339, 14340, 14379, 14387, 14392, 14402, 14410, 14650, 14708, 14858, 14994, 14998, 14999, 15003, 15004, 15057, 15059, 15139, 15217, 15246, 15316, 15329, 15363, 15580, 15593, 15594, 15595, 15620, 15737, 15745, 15746, 15782, 15792, 15795, 15796, 15822, 15823, 15824, 15826, 15986, 16005, 16006, 16007, 16008, 16009, 16010, 16011, 16012, 16013, 16014, 16015, 16016, 16017, 16018, 16019, 16020, 16021, 16022, 16023, 16024, 16025, 16026, 16027, 16028, 16029, 16030, 16031, 16032, 16099, 16212, 16218, 16234, 16254, 16264, 16279, 16406, 16418, 16442, 16494, 16535, 16547, 16570, 16598, 16609, 16626, 16637, 16651, 16670, 16673, 16675, 16686, 16836, 16851, 16901, 16945, 17250, 17251, 17252, 17289, 17303, 17308, 17309, 17310, 17311, 17312, 17313, 17315, 17316, 17338, 17357, 17361, 17362, 17366, 17368, 17375, 17511, 17523, 17546, 17556, 17558, 17565, 17571, 17600, 17605, 17606, 17607, 17609, 17669, 17697, 17702, 17703, 17716, 17727, 17803, 17825, 17869, 17883, 17884, 17916, 18067, 18213, 18219, 18248, 18251, 18263, 18264, 18270, 18364, 18370, 18379, 18420, 18427, 18429, 18431, 18434, 18437, 18546, 18622, 18652, 18664, 18706, 18739, 18777, 18914, 18918, 18962, 18965, 18995, 18996, 19024, 19041, 19060, 19061, 19062, 19063, 19092, 19148, 19169, 19226, 19287, 19288, 19289, 19290, 19291, 19292, 19293, 19369, 19471, 19477, 19483, 19487, 19488, 19500, 19511, 19513, 19516, 19517, 19518, 19519, 19520, 19521, 19522, 19523, 19524, 19525, 19534, 19598, 19611, 19614, 19621, 19622, 19666, 19675, 19711, 19712, 19736, 19770, 19796, 19797, 19798, 19808, 19809, 19810, 19811, 19825, 19840, 19848, 19849, 19857, 19887, 19888, 19902, 19924, 19925, 19926, 19936, 19960, 19998, 20000, 20001, 20013, 20093, 20095, 20098, 20099, 20197, 20226, 20327, 20372, 20381, 20415, 20429, 20453, 20460, 20462, 20479, 20576, 20635, 20641, 20664, 20667, 20686, 20715, 20730, 20759, 20793, 20810, 20824, 20845, 20862, 20865, 20877, 20882, 20887, 20896, 20905, 20915, 20926, 20927, 20954, 20964, 20968, 20978, 20982, 20999, 21000, 21005, 21020, 21023, 21061, 21069, 21071, 21109, 21201, 21203, 21204, 21205, 21241, 21261, 21294, 21295, 21296, 21297, 21298, 21299, 21300, 21304, 21454, 21455, 21457, 21458, 21459, 21460, 21462, 21465, 21467, 21468, 21469, 21472, 21473, 21476, 21478, 21479, 21483, 21491, 21496, 21497, 21499, 21501, 21520, 21526, 21558, 21566, 21641, 21652, 21659, 21660, 21668, 21680, 21695, 21727, 21735, 21739, 21741, 21744, 21747, 21759, 21764, 21770, 21774, 21797, 21866, 21873, 21894, 21895, 21896, 21915, 21936, 21939, 21952, 21954, 21960, 21963, 21966, 21976, 21978, 21987, 21991, 21995, 22011, 22012, 22017, 22066, 22067, 22068, 22069, 22071, 22072, 22073, 22082, 22083, 22096, 22163, 22167, 22182, 22213, 22223, 22245, 22254, 22267, 22294, 22436, 22437, 23253, 23257, 23270, 23274, 23275, 23328, 23329, 23330, 23331, 23332, 23380, 23410, 23411, 23413, 23423, 23440, 23452, 23585, 23586, 23587, 23588, 23590, 23591, 23744, 23754, 23755, 23756, 23757, 23760, 23762, 23763, 23765, 23766, 23768, 23772, 23773, 23775, 23776, 23777, 23778, 23780, 23781, 23782, 23783, 23784, 23785, 23786, 23787, 23788, 23789, 23790, 23791, 23792, 23793, 23794, 23795, 23796, 23797, 23799, 23800, 23803, 23804, 23806, 23823, 23824, 23825, 23826, 23827, 23828, 23915, 23916, 23917, 23918, 23934, 24191, 24329, 24412, 24481, 24482, 24575, 24576, 24577, 24589, 24635, 24647, 24668, 24669, 24672, 24704, 24712, 24731, 24758, 24905, 24978, 24980, 24983, 24986, 24990, 24994, 24996, 24999, 25000, 25001, 25003, 25006, 25007, 25009, 25012, 25013, 25093, 25120, 25171, 25223, 25243, 25280, 25292, 25299, 25300, 25301, 25302, 25303, 25304, 25305, 25306, 25307, 25308, 25309, 25310, 25311, 25312, 25313, 25314, 25315, 25316, 25317, 25318, 25319, 25320, 25321, 25322, 25323, 25324, 25325, 25326, 25327, 25328, 25329, 25330, 25331, 25332, 25333, 25334, 25335, 25336, 25337, 25338, 25339, 25340, 25342, 25343, 25344, 25345, 25346, 25347, 25348, 25349, 25350, 25354, 25356, 25357, 25362, 25364, 25365, 25366, 25367, 25369, 25372, 25374, 25378, 25379, 25380, 25381, 25382, 25383, 25384, 25385, 25387, 25398, 25399, 25400, 25401, 25402, 25406, 25408, 25412, 25413, 25416, 25417, 25418, 25429, 25431, 25433, 25437, 25441, 25445, 25447, 25448, 25449, 25452, 25453, 25454, 25459, 25460, 25462, 25465, 25472, 25474, 25476, 25478, 25480, 25481, 25491, 25492, 25493, 25497, 25499, 25502, 25503, 25504, 25513, 25523, 25524, 25525, 25526, 25530, 25531, 25532, 25533, 25536, 25540, 25547, 25548, 25568, 25572, 25573, 25574, 25597, 25601, 25603, 25608, 25619, 25625, 25626, 25627, 25628, 25629, 25648, 25649, 25650, 25651, 25652, 25653, 25654, 25655, 25656, 25657, 25658, 25659, 25660, 25661, 25662, 25663, 25664, 25665, 25666, 25668, 25670, 25671, 25672, 25673, 25674, 25678, 25683, 25688, 25701, 25707, 25708, 25711, 25712, 25715, 25734, 25736, 25751, 25767, 25768, 25769, 25770, 25771, 25772, 25773, 25774, 25775, 25776, 25777, 25778, 25779, 25780, 25781, 25782, 25783, 25784, 25785, 25786, 25787, 25788, 25789, 25791, 25792, 25793, 25797, 25800, 25801, 25802, 25803, 25804, 25805, 25808, 25809, 25813, 25814, 25836, 25995, 26022, 26031, 26033, 26036, 26042, 26045, 26054, 26069, 26070, 26121, 26122, 26136, 26137, 26138, 26139, 26140, 26141, 26142, 26143, 26144, 26145, 26146, 26147, 26148, 26149, 26150, 26151, 26168, 26197, 26198, 26199, 26288, 26289, 26290, 26291, 26304, 26305, 26306, 26307, 26309, 26310, 26311, 26312, 26313, 26334, 26335, 26336, 26337, 26339, 26340, 26341, 26342, 26343, 26344, 26345, 26348, 26349, 26350, 26351, 26352, 26353, 26354, 26355, 26356, 26357, 26359, 26373, 26380, 26407, 26452, 26550, 26830, 26857, 26860, 26861, 26865, 26866, 26867, 26868, 26869, 26870, 26871, 26872, 26878, 26882, 26888, 26889, 26890, 26893, 26894, 26895, 26904, 26905, 26910, 26911, 26912, 26916, 26917, 26933, 26939, 26940, 26941, 26942, 26943, 26944, 26945, 26946, 26947, 26948, 26949, 26950, 26957, 26969, 26978, 26980, 27024, 27042, 27226, 27447, 27560, 27598, 27617, 27813, 27915, 28568, 28569, 28570, 28571, 28572, 28573, 28574, 28575, 28576, 28577, 28578, 28579, 28580, 28581, 28582, 28583, 28584, 28585, 28586, 28587, 28588, 28589, 28590, 28591, 28592, 28593, 28594, 28595, 28596, 28597, 28598, 28599, 28600, 28601, 28602, 28603, 28604, 28605, 28606, 28607, 28608, 28609, 28610, 28611, 28612, 28613, 28614, 28615, 28616, 28617, 28618, 28619, 28620, 28621, 28622, 28623, 28624, 28625, 28626, 28627, 28628, 28629, 28630, 28631, 28632, 28633, 28634, 28635, 28636, 28637, 28638, 28639, 28640, 28641, 28642, 28643, 28644, 28645, 28646, 28647, 28648, 28649, 28650, 28651, 28652, 28653, 28654, 28655, 28656, 28657, 28658, 28659, 28660, 28661, 28662, 28663, 28664, 28665, 28666, 28667, 28668, 28669, 28670, 28671, 28672, 28673, 28674, 28675, 28676, 28677, 28678, 28679, 28680, 28681, 28682, 28683, 28684, 28685, 28686, 28687, 28688, 28689, 28690, 28691, 28692, 28693, 28694, 28695, 28696, 28697, 28698, 28699, 28700, 28701, 28702, 28703, 28704, 28705, 28706, 28707, 28708, 28709, 28710, 28711, 28712, 28713, 28714, 28715, 28716, 28717, 28718, 28719, 28720, 28721, 28722, 28723, 28724, 28725, 28726, 28727, 28728, 28729, 28730, 28731, 28732, 28733, 28734, 28735, 28736, 28737, 28738, 28739, 28740, 28741, 28742, 28743, 28744, 28745, 28746, 28747, 28748, 28749, 28750, 28751, 28752, 28753, 28754, 28755, 28756, 28757, 28758, 28759, 28760, 28761, 28762, 28763, 28764, 28765, 28766, 28767, 28768, 28769, 28770, 28771, 28772, 28773, 28774, 28775, 28776, 28777, 28778, 28779, 28780, 28781, 28782, 28783, 28784, 28785, 28786, 28787, 28788, 28789, 28790, 28791, 28792, 28793, 28794, 28795, 28796, 28797, 28798, 28799, 28800, 28801, 28802, 28803, 28804, 28805, 28806, 28807, 28808, 28809, 28810, 28811, 28812, 28813, 28814, 28815, 28816, 28817, 28818, 28819, 28820, 28821, 28822, 28823, 28824, 28825, 28826, 28827, 28828, 28829, 28830, 28831, 28832, 28833, 28834, 28835, 28836, 28837, 28838, 28839, 28840, 28841, 28842, 28843, 28844, 28845, 28846, 28847, 28848, 28849, 28850, 28851, 28852, 28853, 28854, 28855, 28856, 28857, 28858, 28859, 28860, 28861, 28862, 28863, 28864, 28865, 28866, 28867, 28868, 28869, 28870, 28871, 28872, 28873, 28874, 28875, 28876, 28877, 28878, 28879, 28880, 28881, 28882, 28883, 28884, 28885, 28886, 28887, 29228, 29514, 29757, 29758, 29759, 29781, 29785, 29787, 29799, 29820, 29824, 29825, 29826, 29917, 29921, 29923, 29925, 29926, 29932, 29933, 29960, 30005, 30054, 30055, 30056, 30057, 30058, 30059, 30060, 30062, 30064, 30067, 30068, 30072, 30074, 30075, 30079, 30080, 30106, 30114, 30216, 30220, 30226, 30227, 30240, 30271, 30316, 30333, 30454, 30802, 30832, 30846, 30879, 30890, 30894, 30940, 30941, 30946, 30953, 30956, 30958, 30965, 30985, 31078, 31099, 31171, 31192, 31221, 31239, 31268, 31271, 31286, 31631, 31675, 31679, 31694, 31695, 31696, 31697, 31711, 31716, 31735, 31736, 31763, 31807, 31812, 31813, 31814, 31846, 31859, 31860, 31868, 31869, 31870, 31871, 31872, 31873, 31874, 31875, 31876, 31877, 31878, 31895, 31923, 31936, 31948, 31949, 31969, 32006, 32021, 32024, 32100, 32159, 32160, 32161, 32162, 32163, 32174, 32175, 32176, 32177, 32178, 32183, 32251, 32271, 32357, 32358, 32359, 32360, 32367, 32393, 32418, 32472, 32473, 32476, 32505, 32539, 32546, 32547, 32565, 32567, 32575, 32731, 32766, 32782, 32783, 32826, 32827, 32828, 32852, 32857, 33359, 33364, 33367, 33369, 33373, 33446, 33605, 33606, 33607, 33621, 33633, 33638, 33641, 33654, 33655, 33657, 33728, 33729, 33730, 33731, 33732, 33733, 33734, 33736, 33737, 33738, 33739, 33740, 33741, 33742, 33743, 33744, 33745, 33746, 33747, 33748, 33749, 33750, 33751, 33752, 33753, 33754, 33755, 33756, 33757, 33758, 33759, 33760, 33761, 33763, 33764, 33765, 33767, 33768, 33769, 33770, 33771, 33772, 33773, 33774, 33775, 33776, 33777, 33778, 33779, 33780, 33781, 33782, 33783, 33784, 33785, 33786, 33799, 33800, 33802, 33807, 33819, 33824, 33825, 33828, 33829, 33830, 33832, 33932, 33942, 33981, 33983, 34004, 34047, 34063, 34064, 34065, 34069, 34111, 34141, 34150, 34158, 34177, 34254, 34337, 34374, 34424, 34486, 34569, 34570, 34572, 34576, 34772, 34848, 34850, 35066, 35073, 35077, 35081, 35095, 35122, 35129, 35142, 35211, 35358, 35374, 35394, 35506, 35548, 35576, 35762, 35767, 35853, 35858, 35894, 35895, 35906, 35994, 36168, 36170, 36178, 36213, 36233, 36255, 36307, 36308, 36313, 36359, 36360, 36361, 36362, 36363, 36380, 36384, 36391, 36393, 36394, 36395, 36396, 36397, 36398, 36399, 36400, 36401, 36402, 36403, 36432, 36442, 36443, 36444, 36445, 36446, 36447, 36448, 36449, 36450, 36451, 36452, 36453, 36454, 36455, 36456, 36457, 36458, 36459, 36460, 36461, 36462, 36463, 36464, 36465, 36466, 36467, 36468, 36469, 36470, 36471, 36490, 36492, 36493, 36494, 36495, 36503, 36504, 36505, 36506, 36507, 36508, 36509, 36510, 36511, 36515, 36516, 36517, 36518, 36519, 36520, 36521, 36524, 36525, 36526, 36527, 36528, 36541, 36542, 36543, 36545, 36546, 36547, 36548, 36549, 36550, 36551, 36552, 36554, 36555, 36556, 36557, 36558, 36559, 36560, 36561, 36562, 36564, 36565, 36566, 36567, 36569, 36570, 36571, 36572, 36573, 36574, 36575, 36576, 36577, 36578, 36581, 36584, 36585, 36586, 36587, 36588, 36590, 36591, 36595, 36596, 36597, 36598, 36599, 36600, 36601, 36602, 36603, 36604, 36605, 36606, 36607, 36608, 36609, 36610, 36611, 36612, 36613, 36614, 36615, 36616, 36617, 36618, 36619, 36620, 36621, 36622, 36623, 36624, 36625, 36626, 36627, 36628, 36629, 36630, 36631, 36643, 36645, 36646, 36647, 36648, 36649, 36650, 36651, 36652, 36653, 36654, 36655, 36656, 36658, 36659, 36660, 36661, 36665, 36667, 36669, 36670, 36673, 36674, 36680, 36681, 36682, 36683, 36684, 36685, 36686, 36688, 36689, 36690, 36694, 36695, 36696, 36697, 36698, 36704, 36705, 36706, 36707, 36708, 36709, 36710, 36711, 36712, 36713, 36714, 36715, 36716, 36717, 36718, 36719, 36725, 36731, 36737, 36738, 36740, 36741, 36742, 36743, 36744, 36746, 36747, 36822, 36824, 36830, 36831, 36832, 36833, 36834, 36835, 36836, 36837, 36838, 36839, 36840, 36841, 36842, 36843, 36844, 36845, 36846, 36847, 36850, 36856, 36860, 36877, 36915, 36996, 37013, 37014, 37015, 37016, 37034, 37090, 37094, 37095, 37096, 37097, 37098, 37099, 37100, 37101, 37102, 37103, 37104, 37105, 37106, 37108, 37110, 37111, 37112, 37113, 37114, 37115, 37116, 37117, 37119, 37121, 37122, 37123, 37124, 37125, 37126, 37127, 37128, 37129, 37130, 37131, 37132, 37133, 37134, 37135, 37137, 37138, 37139, 37140, 37141, 37142, 37143, 37144, 37145, 37147, 37148, 37149, 37150, 37151, 37152, 37153, 37154, 37155, 37156, 37157, 37158, 37159, 37160, 37161, 37162, 37163, 37164, 37165, 37167, 37168, 37171, 37172, 37173, 37174, 37175, 37176, 37178, 37179, 37183, 37197, 37283, 37284, 37285, 37292, 37293, 37297, 37309, 37324, 37327, 37331, 37350, 37394, 37396, 37431, 37432, 37498, 37515, 37582, 37587, 37600, 37601, 37649, 37701, 37721, 37727, 37757, 37954, 37956, 37986, 38020, 38021, 38030, 38031, 38032, 38033, 38034, 38035, 38036, 38037, 38038, 38039, 38040, 38041, 38042, 38043, 38058, 38071, 38078, 38092, 38095, 38097, 38100, 38148, 38149, 38154, 38157, 38165, 38170, 38198, 38222, 38238, 38239, 38254, 38255, 38256, 38257, 38259, 38260, 38261, 38262, 38263, 38264, 38273, 38274, 38275, 38276, 38277, 38278, 38279, 38280, 38281, 38282, 38283, 38284, 38285, 38286, 38287, 38288, 38289, 38290, 38291, 38292, 38293, 38294, 38295, 38296, 38297, 38298, 38299, 38300, 38301, 38302, 38303, 38304, 38305, 38306, 38307, 38310, 38311, 38312, 38313, 38314, 38316, 38318, 38319, 38320, 38321, 38322, 38323, 38324, 38325, 38326, 38327, 38328, 38329, 38330, 38331, 38332, 38333, 38334, 38335, 38336, 38337, 38338, 38339, 38340, 38341, 38342, 38343, 38345, 38346, 38347, 38348, 38349, 38350, 38351, 38352, 38353, 38354, 38355, 38356, 38357, 38358, 38359, 38360, 38361, 38362, 38363, 38364, 38365, 38366, 38367, 38368, 38371, 38372, 38373, 38374, 38375, 38376, 38377, 38379, 38380, 38381, 38382, 38383, 38394, 38395, 38396, 38397, 38398, 38399, 38400, 38401, 38402, 38403, 38405, 38406, 38407, 38408, 38409, 38410, 38411, 38412, 38413, 38414, 38415, 38417, 38418, 38437, 38438, 38439, 38441, 38442, 38443, 38444, 38445, 38446, 38447, 38448, 38449, 38450, 38451, 38452, 38453, 38454, 38455, 38456, 38457, 38458, 38459, 38460, 38461, 38462, 38463, 38464, 38465, 38466, 38467, 38470, 38471, 38473, 38474, 38475, 38476, 38477, 38478, 38479, 38480, 38481, 38482, 38483, 38484, 38485, 38487, 38488, 38489, 38490, 38491, 38492, 38493, 38494, 38495, 38496, 38497, 38498, 38499, 38500, 38501, 38502, 38505, 38508, 38509, 38510, 38511, 38515, 38516, 38517, 38518, 38519, 38520, 38521, 38522, 38524, 38525, 38526, 38527, 38528, 38529, 38530, 38531, 38532, 38533, 38534, 38535, 38536, 38537, 38539, 38540, 38541, 38542, 38543, 38544, 38545, 38546, 38547, 38549, 38550, 38551, 38552, 38553, 38554, 38555, 38556, 38557, 38558, 38559, 38560, 38561, 38562, 38563, 38564, 38565, 38566, 38567, 38568, 38569, 38570, 38571, 38572, 38573, 38574, 38575, 38577, 38578, 38579, 38580, 38581, 38582, 38585, 38586, 38587, 38588, 38589, 38590, 38595, 38596, 38597, 38598, 38599, 38600, 38601, 38602, 38603, 38604, 38605, 38606, 38607, 38609, 38610, 38611, 38615, 38616, 38617, 38618, 38619, 38620, 38622, 38623, 38624, 38625, 38626, 38627, 38630, 38631, 38636, 38637, 38638, 38639, 38640, 38641, 38642, 38643, 38644, 38645, 38646, 38647, 38648, 38649, 38650, 38651, 38652, 38653, 38654, 38655, 38656, 38657, 38658, 38659, 38660, 38661, 38662, 38663, 38664, 38665, 38666, 38667, 38668, 38669, 38670, 38679, 38680, 38681, 38689, 38690, 38691, 38692, 38693, 38694, 38695, 38696, 38697, 38698, 38699, 38700, 38702, 38703, 38704, 38705, 38706, 38708, 38709, 38710, 38712, 38713, 38715, 38716, 38717, 38718, 38719, 38721, 38730, 38731, 38732, 38733, 38734, 38735, 38736, 38737, 38738, 38739, 38740, 38741, 38742, 38743, 38744, 38745, 38746, 38747, 38748, 38749, 38750, 38751, 38752, 38753, 38754, 38755, 38756, 38757, 38758, 38759, 38760, 38761, 38762, 38763, 38764, 38765, 38766, 38767, 38768, 38769, 38770, 38771, 38774, 38775, 38776, 38777, 38780, 38781, 38782, 38783, 38784, 38789, 38796, 38797, 38799, 38800, 38801, 38802, 38803, 38804, 38808, 38810, 38811, 38812, 38813, 38814, 38815, 38816, 38817, 38818, 38819, 38820, 38821, 38822, 38823, 38824, 38826, 38827, 38830, 38831, 38832, 38833, 38834, 38836, 38840, 38841, 38842, 38843, 38844, 38845, 38846, 38847, 38848, 38849, 38850, 38851, 38852, 38853, 38854, 38855, 38856, 38857, 38858, 38859, 38860, 38861, 38862, 38863, 38864, 38865, 38866, 38867, 38868, 38869, 38870, 38871, 38872, 38873, 38874, 38875, 38876, 38877, 38878, 38879, 38880, 38881, 38882, 38883, 38884, 38885, 38886, 38887, 38888, 38889, 38890, 38891, 38892, 38893, 38894, 38895, 38896, 38903, 38905, 38906, 38907, 38908, 38910, 38912, 38913, 38915, 38918, 38920, 38921, 38922, 38923, 38924, 38925, 38926, 38927, 38929, 38930, 38931, 38936, 38937, 38938, 38939, 38940, 38942, 38943, 38944, 38945, 38946, 38947, 38948, 38949, 38950, 38951, 38952, 38953, 38954, 38955, 38956, 38957, 38958, 38959, 38960, 38962, 38963, 38964, 38966, 38967, 38968, 38969, 38970, 38971, 38972, 38973, 38974, 38975, 38976, 38977, 38978, 38979, 38980, 38981, 38982, 38983, 38984, 38985, 38986, 38987, 38988, 38989, 38990, 38992, 38993, 38994, 38995, 38996, 38997, 38998, 38999, 39000, 39001, 39002, 39003, 39004, 39005, 39006, 39011, 39014, 39016, 39033, 39034, 39035, 39036, 39037, 39040, 39043, 39044, 39045, 39046, 39047, 39048, 39050, 39051, 39052, 39053, 39054, 39055, 39056, 39057, 39058, 39059, 39060, 39061, 39062, 39063, 39064, 39065, 39067, 39068, 39069, 39070, 39071, 39072, 39073, 39076, 39077, 39078, 39079, 39080, 39081, 39082, 39083, 39085, 39086, 39087, 39088, 39089, 39091, 39092, 39094, 39095, 39096, 39097, 39100, 39101, 39102, 39103, 39108, 39114, 39117, 39132, 39146, 39161, 39193, 39194, 39196, 39197, 39198, 39199, 39200, 39201, 39202, 39203, 39204, 39205, 39206, 39207, 39208, 39209, 39210, 39211, 39212, 39213, 39215, 39216, 39217, 39218, 39219, 39220, 39221, 39222, 39223, 39224, 39225, 39226, 39227, 39228, 39229, 39230, 39231, 39232, 39233, 39234, 39235, 39237, 39240, 39246, 39254, 39255, 39261, 39262, 39263, 39264, 39265, 39267, 39268, 39270, 39271, 39272, 39273, 39306, 39311, 39325, 39390, 39397, 39408, 39425, 39432, 39440, 39441, 39442, 39443, 39445, 39446, 39447, 39448, 39463, 39464, 39465, 39468, 39474, 39475, 39476, 39478, 39479, 39480, 39483, 39488, 39506, 39507, 39548, 39549, 39550, 39551, 39552, 39553, 39554, 39555, 39556, 39557, 39558, 39559, 39560, 39561, 39562, 39563, 39564, 39565, 39566, 39567, 39568, 39572, 39615, 39629, 39648, 40023, 40088, 40089, 40151, 40284, 40412, 40584, 40585, 40586, 40598, 40599, 40601, 40632, 40633, 40634, 40646, 40651, 40738, 40739, 40760, 40769, 40791, 40931, 40932, 40954, 40955, 41066, 41075, 41112, 41183, 41186, 41227, 41269, 41270, 41271, 41272, 41273, 41274, 41275, 41276, 41277, 41278, 41279, 41280, 41281, 41290, 41322, 41323, 41324, 41325, 41328, 41329, 41330, 41332, 41333, 41334, 41335, 41336, 41337, 41338, 41339, 41340, 41341, 41342, 41343, 41344, 41345, 41346, 41347, 41348, 41349, 41350, 41351, 41352, 41353, 41354, 41355, 41356, 41357, 41358, 41359, 41360, 41361, 41362, 41363, 41364, 41365, 41366, 41367, 41368, 41369, 41370, 41371, 41372, 41373, 41376, 41379, 41380, 41381, 41382, 41383, 41384, 41385, 41387, 41388, 41389, 41390, 41391, 41392, 41393, 41394, 41395, 41396, 41397, 41399, 41400, 41402, 41403, 41404, 41405, 41406, 41407, 41408, 41409, 41410, 41411, 41412, 41420, 41422, 41423, 41424, 41425, 41426, 41427, 41428, 41429, 41430, 41431, 41432, 41433, 41434, 41435, 41436, 41437, 41438, 41440, 41441, 41442, 41443, 41444, 41445, 41446, 41447, 41448, 41449, 41450, 41451, 41452, 41453, 41454, 41455, 41456, 41457, 41458, 41459, 41460, 41461, 41462, 41463, 41464, 41465, 41466, 41467, 41468, 41469, 41470, 41471, 41472, 41473, 41474, 41475, 41476, 41477, 41478, 41479, 41480, 41481, 41482, 41483, 41484, 41485, 41486, 41487, 41488, 41490, 41511, 41521, 41531, 41538, 41553, 41561, 41565, 41568, 41575, 41581, 41585, 41603, 41616, 41650, 41657, 41673, 41675, 41676, 41679, 41680, 41681, 41684, 41686, 41688, 41689, 41696, 41700, 41702, 41709, 41717, 41722, 41768, 41772, 41781, 41788, 41796, 41798, 41799, 41800, 41808, 41815, 41820, 41822, 41850, 41857, 41865, 41866, 41867, 41876, 41880, 41882, 41889, 41893, 41895, 41897, 41901, 41903, 41905, 41906, 41910, 41912, 41916, 41923, 41925, 41932, 41938, 41941, 41953, 41955, 41964, 41979, 41980, 41982, 41983, 41993, 41997, 41999, 42001, 42005, 42009, 42010, 42011, 42013, 42017, 42026, 42030, 42036, 42042, 42062, 42066, 42067, 42069, 42071, 42076, 42077, 42079, 42086, 42089, 42102, 42105, 42108, 42109, 42116, 42129, 42149, 42177, 42183, 42206, 42232, 42233, 42234, 42235, 42245, 42249, 42252, 42262, 42287, 42307, 42313, 42321, 42341, 42344, 42346, 42347, 42359, 42376, 42381, 42383, 42400, 42403, 42404, 42421, 42437, 42439, 42454, 42457, 42472, 42480, 42482, 42504, 42519, 42543, 42558, 42559, 42562, 42570, 42571, 42575, 42593, 42609, 42610, 42614, 42618, 42621, 42639, 42647, 42649, 42653, 42659, 42660, 42664, 42680, 42706, 42708, 42709, 42715, 42716, 42718, 42736, 42741, 42746, 42756, 42804, 42832, 42847, 42874, 42885, 42904, 42912, 42924, 42929, 42951, 42990, 43007, 43037, 43045, 43052, 43073, 43074, 43117, 43155, 43168, 43178, 43181, 43189, 43201, 43218, 43219, 43224, 43247, 43252, 43276, 43285, 43293, 43306, 43321, 43337, 43353, 43382, 43402, 43406, 43413, 43425, 43452, 43453, 43473, 43480, 43483, 43494, 43500, 43528, 43546, 43555, 43562, 43593, 43594, 43611, 43616, 43624, 43634, 43650, 43654, 43690, 43724, 43727, 43736, 43739, 43805, 43806, 43807, 43841, 43842, 43843, 43844, 43845, 43846, 43847, 43848, 43849, 43850, 43852, 43853, 43854, 43904, 43921, 44257, 44270, 44272, 44274, 44276, 44283, 44289, 44294, 44309, 44310, 44437, 44442, 44443, 44444, 44445, 44447, 44449, 44450, 44451, 44453, 44454, 44455, 44456, 44457, 44458, 44459, 44460, 44461, 44462, 44463, 44465, 44467, 44468, 44469, 44470, 44471, 44472, 44500, 44502, 44516, 44552, 44553, 44554, 44555, 44556, 44557, 44558, 44559, 44560, 44561, 44562, 44563, 44564, 44565, 44566, 44567, 44583, 44616, 44617, 44618, 44622, 44623, 44624, 44625, 44626, 44627, 44628, 44629, 44630, 44631, 44833, 44944, 44946, 44947, 44948, 44949, 44950, 44951, 44952, 44953, 44954, 44955, 44956, 44957, 44958, 44959, 44960, 44961, 44962, 44963, 44981, 45007, 45018, 45048, 45049, 45076, 45092, 45093, 45094, 45095, 45096, 45097, 45098, 45099, 45100, 45101, 45102, 45104, 45105, 45106, 45107, 45108, 45109, 45110, 45111, 45112, 45113, 45114, 45115, 45116, 45117, 45118, 45170, 45198, 45199, 45201, 45202, 45203, 45218, 45220, 45238, 45254, 45255, 45256, 45257, 45258, 45259, 45260, 45261, 45262, 45263, 45264, 45265, 45266, 45267, 45268, 45269, 45270, 45280, 45301, 45305, 45314, 45316, 45319, 45351, 45368, 45410, 45411, 45412, 45413, 45414, 45415, 45440, 45441, 45442, 45443, 45444, 45445, 45446, 45447, 45448, 45449, 45450, 45451, 45452, 45453, 45499, 45500, 45501, 45502, 45503, 45504, 45505, 45506, 45507, 45508, 45509, 45510, 45511, 45512, 45513, 45536, 45537, 45538, 45540, 45541, 46305, 46443, 46698, 46995, 47003, 47087, 47364, 47529, 47530, 47531, 47532, 47550, 47551, 47552, 47553, 47554, 47555, 47556, 47557, 47558, 47559, 47560, 47561, 47562, 47563, 47565, 47566, 47567, 47568, 47569, 47570, 47571, 47576, 47577, 47578, 47579, 47583, 47587, 47650, 47651, 47654, 47655, 47656, 47657, 47658, 47659, 47660, 47661, 47662, 47707, 47708, 47709, 47710, 47711, 47712, 47713, 47714, 47715, 47716, 47717, 47718, 47719, 47720, 47721, 47722, 47723, 47724, 47725, 47726, 47727, 47728, 47729, 47730, 47732, 47733, 47734, 47735, 47736, 47737, 47738, 47739, 47740, 47741, 47742, 47743, 47744, 47745, 47747, 47748, 47749, 47750, 47751, 47752, 47753, 47757, 47758, 47759, 47770, 47773, 47776, 47777, 47839, 47902, 47903, 47904, 47905, 47907, 47908, 47910, 47911, 47912, 47913, 48003, 48352, 48431, 48477, 48540, 48568, 48625, 48725, 48755, 49012, 49013, 49014, 49276, 49343, 49350, 49355, 49359, 49366, 49370, 49401, 49402, 49403, 49405, 49406, 49408, 49416, 49420, 49422, 49423, 49424, 49425, 49426, 49427, 49428, 49429, 49430, 49431, 49433, 49435, 49436, 49437, 49438, 49441, 49442, 49443, 49445, 49446, 49447, 49448, 49449, 49450, 49451, 49453, 49476, 49483, 49535, 49595, 49613, 49621, 49622, 49623, 49657, 49658, 49665, 49669, 49673, 49676, 49689, 49719, 49766, 49778, 49784, 49786, 49827, 49829, 49836, 49837, 49854, 49856, 49859, 49861, 49868, 49874, 49875, 49972, 50100, 50120, 50169, 50170, 50171, 50173, 50182, 50226, 50229, 50230, 50231, 50232, 50237, 50240, 50274, 50276, 50277, 50278, 50279, 50280, 50281, 50282, 50283, 50284, 50285, 50286, 50287, 50288, 50289, 50290, 50291, 50292, 50293, 50294, 50295, 50296, 50297, 50298, 50299, 50300, 50301, 50303, 50350, 50417, 50458, 50473, 50476, 50478, 50479, 50537, 50545, 50892, 50893, 50897, 50898, 50899, 50900, 50901, 50902, 50903, 50904, 50905, 50906, 50907, 50912, 50913, 50914, 50915, 50916, 50917, 50918, 50919, 50920, 50921, 50922, 50923, 50924, 50925, 50926, 50927, 50928, 50929, 50930, 50931, 50932, 50933, 50934, 50935, 50936, 50937, 50938, 50939, 50940, 50941, 50942, 50943, 50944, 50945, 50946, 50947, 50948, 50949, 50950, 50951, 50952, 50953, 50954, 50955, 50956, 50957, 50958, 50959, 50960, 50961, 50998, 50999, 51001, 51113, 51191, 51230, 51231, 51241, 51255, 51256, 51257, 51260, 51360, 51361, 51362, 51363, 51364, 51365, 51366, 51367, 51368, 51369, 51370, 51371, 51373, 51402, 51409, 51411, 51456, 51464, 51472, 51635, 51743, 51745, 51767, 51773, 51782, 51784, 51798, 51799, 51803, 51805, 51811, 51865, 51870, 51871, 51872, 51878, 51879, 51880, 51881, 51882, 51884, 51885, 51886, 51887, 51888, 51889, 51890, 51891, 51892, 51913, 51924, 51939, 51986, 51987, 51988, 51989, 51990, 51991, 51992, 51993, 51994, 51995, 52001, 52002, 52003, 52004, 52005, 52007, 52008, 52009, 52010, 52011, 52012, 52013, 52017, 52022, 52025, 52030, 52047, 52056, 52141, 52249, 52250, 52273, 52277, 52291, 52293, 52329, 52345, 52397, 52455, 52457, 52467, 52484, 52485, 52486, 52487, 52488, 52489, 52490, 52530, 52531, 52532, 52533, 52534, 52535, 52536, 52537, 52538, 52539, 52540, 52541, 52543, 52551, 52570, 52577, 52610, 52614, 52624, 52625, 52654, 52674, 52676, 52787, 52821, 52849, 52887, 53016, 53032, 53295, 53499, 53548, 53592, 53677, 53806, 54246, 54509, 54574, 54584, 54594, 54680, 54685, 54736, 54743, 54773, 54785, 54862, 54879, 54939, 54943, 55235, 55289, 55344, 55404, 55480, 55676, 55691, 55712, 55981, 56092, 56208, 56284, 56446, 56447, 56448, 56449, 56450, 56451, 56452, 56453, 56454, 56455, 56456, 56457, 56458, 56459, 56461, 56462, 56463, 56464, 56465, 56466, 56467, 56468, 56469, 56470, 56471, 56472, 56473, 56474, 56475, 56477, 56478, 56479, 56484, 56495, 56496, 56497, 56498, 56499, 56500, 56501, 56502, 56503, 56504, 56505, 56506, 56507, 56508, 56509, 56510, 56511, 56512, 56513, 56514, 56515, 56516, 56517, 56518, 56519, 56520, 56521, 56522, 56523, 56524, 56525, 56526, 56527, 56528, 56529, 56530, 56531, 56532, 56533, 56534, 56575, 56606, 56660, 56663, 56685, 56686, 56688, 56771, 56834, 56860, 57128, 57150, 57162, 57201, 57277, 57319, 57385, 57440, 57453, 57454, 57456, 57469, 57470, 57471, 57472, 57473, 57477, 57478, 57480, 57497, 57500, 57509, 57549, 57559, 57565, 57587, 57588, 57589, 57590, 57605, 57606, 57608, 57609, 57610, 57612, 57613, 57615, 57616, 57617, 57618, 57621, 57623, 57624, 57679, 57760, 57764, 57860, 57861, 57862, 57863, 57864, 57865, 57866, 57867, 57868, 57869, 57870, 57871, 57873, 57874, 57969, 57997, 57998, 58055, 58056, 58086, 58087, 58259, 58299, 58300, 58301, 58302, 58303, 58304, 58305, 58306, 58307, 58308, 58309, 58310, 58311, 58312, 58313, 58322, 58323, 58324, 58325, 58326, 58327, 58328, 58329, 58330, 58331, 58332, 58333, 58334, 58335, 58425, 58426, 58480, 58489, 58570, 58601, 58678, 58683, 58684, 59085, 59086, 59119, 59122, 59124, 59130, 59164, 59200, 59201, 59202, 59203, 59204, 59205, 59206, 59210, 59211, 59212, 59213, 59214, 59215, 59216, 59217, 59252, 59273, 59274, 59275, 59276, 59277, 59278, 59279, 59280, 59281, 59282, 59283, 59284, 59285, 59286, 59287, 59288, 59289, 59290, 59291, 59292, 59299, 59316, 59435, 59470, 59474, 59513, 59529, 59580, 59581, 59582, 59583, 59584, 59585, 59651, 59668, 59669, 59670, 59671, 59672, 59683, 59686, 59698, 59772, 59920, 59927, 59928, 59949, 59956, 59957, 59982, 59983, 59984, 59985, 59988, 59989, 59991, 59992, 59993, 59994, 59995, 59996, 59997, 59998, 59999, 60000, 60001, 60002, 60004, 60005, 60006, 60007, 60008, 60009, 60010, 60011, 60012, 60013, 60014, 60015, 60016, 60017, 60018, 60019, 60020, 60021, 60026, 60053, 60054, 60055, 60088, 60094, 60117, 60130, 60131, 60133, 60135, 60136, 60137, 60138, 60139, 60140, 60141, 60142, 60143, 60144, 60145, 60146, 60147, 60148, 60149, 60150, 60151, 60152, 60153, 60154, 60155, 60156, 60157, 60158, 60159, 60160, 60161, 60162, 60163, 60164, 60165, 60166, 60167, 60168, 60169, 60170, 60172, 60175, 60176, 60177, 60178, 60179, 60181, 60251, 60349, 60350, 60351, 60352, 60353, 60354, 60355, 60356, 60357, 60362, 60364, 60365, 60366, 60367, 60368, 60369, 60370, 60371, 60372, 60373, 60374, 60375, 60376, 60377, 60378, 60379, 60380, 60381, 60382, 60383, 60384, 60385, 60386, 60387, 60388, 60389, 60391, 60392, 60393, 60394, 60395, 60396, 60397, 60398, 60399, 60400, 60402, 60403, 60404, 60406, 60407, 60408, 60409, 60410, 60457, 60468, 60469, 60477, 60507, 60512, 60559, 60632, 60712, 60720, 60739, 60741, 60756, 60758, 60759, 60760, 60775, 60780, 60782, 60799, 60803, 60851, 60860, 60861, 60925, 60945, 60984, 60995, 61002, 61045, 61110, 61199, 61245, 61246, 61285, 61362, 61426, 61558, 61570, 61572, 61573, 61598, 61601, 61602, 61603, 61791, 61792, 61793, 61868, 61869, 61870, 61871, 61929, 62039, 62093, 62094, 62128, 62132, 62133, 62138, 62139, 62171, 62247, 62287, 62334, 62340, 62367, 62370, 62491, 62492, 62494, 62495, 62496, 62497, 62550, 62557, 62564, 62579, 62584, 62587, 62592, 62611, 62648, 62675, 62676, 62677, 62678, 62679, 62680, 62681, 62683, 62687, 62688, 62689, 62690, 62691, 62692, 62693, 62696, 62697, 62699, 62701, 62702, 62703, 62704, 62711, 62712, 62713, 62714, 62715, 62717, 62718, 62720, 62900, 62901, 62902, 62903, 62905, 62906, 62907, 62908, 62909, 62910, 62911, 62912, 62913, 62914, 62915, 62916, 62917, 62918, 62919, 62920, 62921, 62922, 62923, 62924, 62925, 62926, 62927, 62928, 62929, 62930, 62931, 62932, 62934, 63019, 63137, 63179, 63184, 63286, 63287, 63288, 63289, 63291, 63292, 63293, 63294, 63295, 63296, 63378, 63697, 63765, 63787, 63788, 63921, 63922, 63925, 63928, 63948, 63951, 64021, 64071, 64098, 64100, 64101, 64102, 64159, 64182, 64214, 64219, 64224, 64234, 64237, 64238, 64252, 64259, 64294, 64380, 64409, 64532, 64535, 64536, 64537, 64538, 64539, 64540, 64541, 64542, 64543, 64544, 64545, 64546, 64554, 64555, 64556, 64561, 64566, 64573, 64595, 64596, 64599, 64601, 64602, 64603, 64604, 64607, 64609, 64613, 64614, 64615, 64616, 64617, 64618, 64619, 64620, 64621, 64622, 64623, 64624, 64626, 64627, 64628, 64629, 64630, 64631, 64632, 64633, 64634, 64635, 64636, 64637, 64639, 64641, 64645, 64647, 64649, 64653, 64666, 64674, 64680, 64683, 64685, 64686, 64687, 64707, 64708, 64709, 64711, 64712, 64959, 64981, 65152, 65155, 65156, 65161, 65167, 65202, 65208, 65249, 65277, 65288, 65289, 65290, 65291, 65292, 65293, 65302, 65303, 65304, 65305, 65306, 65307, 65308, 65309, 65311, 65312, 65315, 65316, 65317, 65318, 65319, 65320, 65321, 65322, 65323, 65324, 65325, 65326, 65327, 65328, 65329, 65330, 65332, 65333, 65334, 65335, 65336, 65337, 65338, 65339, 65340, 65341, 65342, 65343, 65344, 65345, 65346, 65347, 65348, 65349, 65350, 65351, 65352, 65353, 65354, 65355, 65356, 65357, 65358, 65359, 65360, 65361, 65362, 65363, 65364, 65365, 65366, 65367, 65368, 65369, 65370, 65371, 65372, 65373, 65374, 65375, 65376, 65377, 65378, 65379, 65380, 65381, 65382, 65383, 65384, 65385, 65386, 65387, 65388, 65389, 65390, 65391, 65392, 65393, 65394, 65396, 65397, 65398, 65399, 65400, 65401, 65402, 65403, 65404, 65405, 65406, 65407, 65408, 65409, 65410, 65411, 65412, 65413, 65414, 65415, 65416, 65418, 65419, 65420, 65422, 65424, 65425, 65427, 65428, 65429, 65430, 65431, 65432, 65433, 65434, 65435, 65436, 65437, 65438, 65439, 65443, 65447, 65452, 65453, 65455, 65459, 65462, 65464, 65466, 65474, 65529, 65557, 65567, 65568, 65606, 65608, 65610, 65611, 65613, 65623, 65712, 65931, 65939, 65942, 65949, 65953, 65975, 65976, 65977, 65978, 65979, 66001, 66002, 66003, 66004, 66005, 66006, 66007, 66008, 66009, 66010, 66011, 66012, 66013, 66014, 66015, 66133, 66172, 66190, 66243, 66265, 66266, 66267, 66271, 66328, 66329, 66338, 66344, 66476, 66491, 66527, 66528, 66578, 66589, 66590, 66591, 66592, 66594, 66595, 66596, 66597, 66598, 66599, 66600, 66601, 66676, 66677, 66678, 66882, 66883, 66884, 67047, 67052, 67072, 67073, 67112, 67156, 67157, 67158, 67186, 67254, 67524, 67582, 67598, 67599, 67609, 67610, 67716, 67797, 67947, 67957, 68303, 68382, 68446, 68451, 68471, 68487, 68489, 68493, 68513, 68533, 68557, 68559, 68563, 68564, 68565, 68573, 68575, 68582, 68588, 68593, 68596, 68598, 68599, 68600, 68601, 68602, 68603, 68604, 68605, 68606, 68607, 68608, 68609, 68626, 68628, 68658, 68660, 68705, 68708, 68709, 68715, 68723, 68729, 68730, 68736, 68737, 68738, 68747, 68752, 68753, 68773, 68802, 68803, 68819, 68820, 68845, 68894, 68906, 68908, 68909, 68910, 68911, 68913, 68917, 68919, 68920, 68921, 68922, 68923, 68924, 68925, 68926, 68927, 68928, 68929, 68930, 68931, 68932, 68933, 68949, 68950, 68954, 68955, 68956, 68958, 68961, 68963, 68964, 68965, 68967, 68968, 68969, 68970, 68971, 68996, 68997, 69004, 69005, 69030, 69031, 69033, 69034, 69044, 69053, 69055, 69057, 69074, 69083, 69111, 69121, 69123, 69129, 69137, 69147, 69148, 69399, 69400, 69401, 69402, 69404, 69405, 69406, 69407, 69408, 69409, 69410, 69411, 69412, 69417, 69424, 69432, 69434, 69436, 69569, 69571, 69573, 69574, 69575, 69577, 69578, 69580, 69715, 69724, 69725, 69730, 69792, 69870, 69875, 69933, 70010, 70121, 70137, 70248, 70356, 70357, 70358, 70359, 70360, 70361, 70362, 70363, 70364, 70365, 70366, 70367, 70368, 70454, 70458, 70464, 70510, 70514, 70515, 70517, 70523, 70552, 70676, 70690, 70743, 70750, 70752, 70753, 70755, 70777, 70781, 70832, 70855, 70873, 70883, 70970, 70979, 70987, 70989, 71040, 71047, 71048, 71097, 71098, 71099, 71100, 71101, 71102, 71103, 71104, 71105, 71106, 71107, 71108, 71109, 71110, 71111, 71112, 71113, 71114, 71128, 71153, 71154, 71155, 71156, 71343, 71355, 71386, 71393, 71464, 71522, 71523, 71524, 71525, 71526, 71528, 71529, 71531, 71532, 71533, 71534, 71537, 71538, 71539, 71541, 71542, 71543, 71546, 71547, 71548, 71549, 71550, 71551, 71552, 71553, 71554, 71556, 71577, 71581, 71582, 71583, 71597, 71609, 71610, 71611, 71612, 71613, 71614, 71615, 71616, 71617, 71618, 71619, 71620, 71624, 71625, 71626, 71631, 71632, 71633, 71634, 71635, 71636, 71637, 71638, 71639, 71640, 71641, 71642, 71643, 71644, 71645, 71646, 71647, 71648, 71649, 71650, 71704, 71705, 71706, 71707, 71708, 71712, 71717, 71723, 71728, 71729, 71730, 71731, 71732, 71733, 71734, 71736, 71737, 71738, 71739, 71740, 71741, 71742, 71743, 71744, 71745, 71746, 71747, 71748, 71749, 71750, 71753, 71754, 71755, 71756, 71757, 71758, 71759, 71760, 71762, 71763, 71764, 71768, 71769, 71770, 71771, 71772, 71773, 71774, 71775, 71783, 71784, 71785, 71786, 71787, 71788, 71809, 71810, 71811, 71812, 71813, 71814, 71817, 71818, 71822, 71823, 71824, 71825, 71832, 71833, 71834, 71835, 71836, 71837, 71838, 71839, 71840, 71841, 71842, 71857, 71858, 71859, 71860, 71861, 71862, 71863, 71864, 71865, 71871, 71909, 71914, 71916, 71917, 71918, 71919, 71920, 71921, 71922, 71923, 71924, 71925, 71926, 71927, 71928, 71931, 71932, 71933, 71938, 71939, 71940, 71941, 71942, 71943, 71944, 71945, 71946, 71947, 71948, 71949, 71950, 71952, 71953, 71954, 71955, 71956, 71957, 71958, 71959, 71960, 71961, 71962, 71963, 71964, 71965, 71968, 71969, 71970, 71972, 71973, 71974, 71975, 71976, 71977, 71978, 71982, 71984, 71985, 71990, 71991, 71993, 71994, 71995, 71996, 71997, 71998, 71999, 72000, 72002, 72003, 72004, 72005, 72018, 72020, 72021, 72022, 72024, 72026, 72027, 72028, 72029, 72030, 72031, 72033, 72034, 72035, 72036, 72037, 72038, 72039, 72040, 72041, 72042, 72043, 72044, 72046, 72047, 72050, 72051, 72053, 72054, 72055, 72056, 72057, 72058, 72059, 72060, 72062, 72063, 72064, 72065, 72066, 72067, 72068, 72069, 72070, 72071, 72073, 72074, 72075, 72076, 72077, 72078, 72079, 72081, 72082, 72084, 72085, 72086, 72087, 72088, 72089, 72090, 72091, 72092, 72093, 72094, 72095, 72096, 72097, 72098, 72099, 72100, 72101, 72103, 72104, 72105, 72106, 72107, 72108, 72109, 72110, 72298, 72304, 72523, 72552, 72559, 72586, 72593, 72606, 72611, 72652, 72656, 72749, 72841, 72842, 72843, 72844, 72845, 72846, 72847, 72848, 72849, 72866, 72888, 72900, 72982, 73027, 73030, 73042, 73079, 73081, 73142, 73157, 73208, 73209, 73240, 73241, 73286, 73333, 73334, 73335, 73336, 73337, 73338, 73339, 73356, 73357, 73359, 73431, 73482, 73492, 73517, 73518, 73520, 73536, 73537, 73540, 73541, 73574, 73618, 73620, 73621, 73653, 73657, 73716, 73783, 73785, 73803, 73810, 73813, 73821, 73830, 73910, 73959, 74018, 74183, 74288, 74333, 74352, 74379, 74443, 74469, 74489, 74543, 74576, 74607, 74624, 74676, 74724, 74774, 74785, 74826, 74972, 74981, 74985, 74992, 74994, 75009, 75016, 75019, 75020, 75021, 75024, 75025, 75027, 75045, 75048, 75049, 75050, 75052, 75053, 75061, 75064, 75067, 75071, 75091, 75092, 75114, 75118, 75122, 75124, 75130, 75135, 75141, 75145, 75155, 75158, 75159, 75161, 75189, 75586, 75619, 75647, 75813, 75814, 75815, 75877, 76106, 76107, 76285, 76287, 77079, 77080, 77261, 77385, 77581, 79982, 79983, 79984, 79985, 79986, 79987, 79988, 79989, 79990, 79991, 79992, 79993, 80806, 81160, 81776, 82053, 82210, 82279, 82342, 82370, 82403, 82551, 83143, 83146, 83462, 83464, 83465, 83474, 83480, 83481, 83482, 83483, 83484, 83486, 83487, 83488, 83492, 83493, 83496, 83498, 83499, 83546, 83558, 83583, 83585, 83591, 83592, 83593, 83594, 83614, 83706, 83707, 84221, 84282, 84290, 84291, 84320, 84329, 84369, 84569, 84579, 84623, 84624, 84625, 84626, 84828, 84864, 84870, 84897, 84979, 85017, 85033, 85054, 85078, 85081, 85083, 85084, 85085, 85171, 85174, 85245, 85258, 85261, 85262, 85314, 85322, 85324, 85333, 85340, 85354, 85357, 85394, 85420, 85425, 85428, 85443, 85446, 85453, 85458, 85463, 85465, 85478, 85488, 85491, 85506, 85517, 85521, 85523, 85534, 85555, 85563, 85564, 85565, 85566, 85580, 85582, 85594, 85613, 85618, 85619, 85638, 85647, 85650, 85708, 85709, 85719, 85734, 85771, 85805, 85818, 85827, 85832, 85843, 85860, 86055, 86074, 86092, 86094, 86163, 86164, 86188, 86189, 86270, 86288, 86297, 86298, 86299, 86354, 86355, 86388, 86389, 86625, 86629, 86710, 86745, 86877, 87047, 87112, 87187, 87219, 87227, 87228, 87231, 87242, 87243, 87298, 87299, 87300, 87303, 87304, 87306, 87307, 87353, 87358, 87364, 87368, 87390, 87425, 87426, 87428, 87429, 87433, 87448, 87451, 87455, 87457, 87458, 87466, 87468, 87469, 87473, 87475, 87477, 87484, 87486, 87487, 87489, 87492, 87493, 87501, 87516, 87517, 87518, 87519, 87520, 87521, 87522, 87523, 87524, 87525, 87526, 87527, 87528, 87531, 87532, 87533, 87534, 87536, 87546, 87548, 87549, 87550, 87551, 87553, 87558, 87644, 87645, 87652, 87660, 87686, 87693, 87694, 87695, 87707, 87708, 87715, 87721, 87726, 87742, 87771, 87775, 87797, 87810, 87812, 87838, 87843, 87852, 87857, 87858, 87883, 88485, 88505, 88509, 88535, 88536, 88682, 88687, 88761, 88855, 88859, 88871, 88917, 88920, 89137, 89263, 89291, 89482, 89495, 89496, 89529, 89531, 89547, 89597, 89633, 89670, 89672, 89673, 89674, 89711, 89723, 89771, 89776, 89809, 89815, 89830, 89850, 89930, 89933, 89943, 89948, 89949, 89956, 89957, 89958, 89959, 89960, 89961, 89962, 89964, 89965, 89966, 89967, 89968, 89969, 89971, 89972, 89973, 89974, 89975, 89980, 89982, 89986, 89987, 89989, 89990, 89993, 90002, 90008, 90010, 90068, 90226, 90256, 90263, 90286, 90290, 90311, 90409, 90455, 90482, 90516, 90540, 90541, 90560, 90790, 90873, 90875, 90883, 90956, 90968, 90997, 91000, 91002, 91010, 91057, 91063, 91070, 91072, 91073, 91078, 91081, 91082, 91084, 91085, 91088, 91090, 91091, 91095, 91105, 91107, 91108, 91112, 91113, 91114, 91115, 91116, 91121, 91168, 91178, 91192, 91193, 91205, 91349, 91403, 91438, 91550, 91557, 91694, 91836, 91837, 91839, 91857, 91864, 91873, 91875, 91937, 91962, 92071, 92307, 92308, 92321, 92399, 92411, 92416, 92423, 92425, 92426, 92531, 92562, 92672, 92673, 92678, 92679, 92737, 92751, 92783, 92811, 92831, 92878, 93004, 93005, 93006, 93007, 93008, 93009, 93010, 93011, 93012, 93013, 93014, 93015, 93016, 93017, 93018, 93019, 93020, 93021, 93022, 93023, 93024, 93025, 93026, 93027, 93028, 93029, 93030, 93031, 93032, 93033, 93040, 93105, 93202, 93210, 93283, 93306, 93308, 93354, 93483, 93484, 93485, 93486, 93487, 93488, 93489, 93490, 93491, 93492, 93493, 93494, 93495, 93496, 93497, 93498, 93499, 93500, 93501, 93502, 93503, 93504, 93505, 93506, 93507, 93508, 93509, 93510, 93511, 93524, 93618, 93619, 93653, 93842, 93845, 93897, 93924, 93983, 93984, 94065, 94207, 94230, 94232, 94289, 94298, 94388, 94389, 94390, 94465, 94466, 94467, 94474, 94488, 94491, 94492, 94591, 94608, 94610, 94617, 94618, 94619, 94620, 94621, 94622, 94623, 94624, 94625, 94626, 94627, 94628, 94629, 94630, 94631, 94632, 94633, 94634, 94635, 94636, 94637, 94638, 94639, 94640, 94641, 94642, 94643, 94660, 94783, 94792, 94793, 94794, 94795, 94796, 94797, 94798, 94799, 94802, 94803, 94804, 94805, 94806, 94807, 94808, 94809, 94810, 94811, 94812, 94813, 94814, 94815, 94816, 94817, 94818, 94819, 94820, 94821, 94822, 94823, 94824, 94825, 94826, 94827, 94828, 94829, 94830, 94831, 94832, 94857, 95070, 95090, 95124, 95186, 95202, 95341, 95342, 95343, 95344, 95345, 95346, 95347, 95348, 95349, 95400, 95401, 95405, 95410, 95424, 95434, 95457, 95458, 95488, 95503, 95508, 95536, 95680, 95875, 95878, 95919, 95924, 95970, 95973, 95978, 95984, 95986, 95990, 96002, 96044, 96054, 96079, 96098, 96100, 96115, 96118, 96221, 96283, 96288, 96434, 96474, 96611, 96659, 96829, 96830, 96831, 96832, 96833, 96834, 96835, 96836, 96837, 96838, 96839, 96840, 96841, 96842, 96843, 96844, 96845, 96859, 96952, 96970, 96986, 97025, 97041, 97190, 97241, 97258, 97277, 97287, 97305, 97313, 97361, 97362, 97363, 97364, 97366, 97367, 97368, 97369, 97370, 97371, 97372, 97373, 97374, 97375, 97376, 97410, 97456, 97459, 97461, 97462, 97468, 97492, 97493, 97505, 97558, 97579, 97580, 97776, 97808, 97826, 97831, 97842, 97856, 97897, 97904, 97907, 97979, 97991, 97998, 98040, 98062, 98068, 98072, 98083, 98142, 98143, 98144, 98146, 98173, 98182, 98377, 98402, 98405, 98428, 98452, 98460, 98757, 98758, 98759, 98784, 98785, 98786, 98790, 98804, 98805, 98834, 98869, 98870, 98871, 98872, 98873, 98874, 98875, 98876, 98877, 98878, 98881, 98882, 98884, 98885, 98886, 98890, 98907, 98908, 98909, 98910, 98911, 98912, 98928, 98988, 98991, 98997]\n"
     ]
    }
   ],
   "source": [
    "### Begin your code\n",
    "BSBI_instance = BSBIIndex(data_dir='pa1-data', output_dir = 'output_dir', )\n",
    "BSBI_instance.load()\n",
    "print(len(BSBI_instance.term_id_map.id_to_str))\n",
    "print(BSBI_instance.term_id_map.id_to_str[:30])\n",
    "\n",
    "with InvertedIndexMapper('BSBI',directory='output_dir') as mapindex:\n",
    "    print(mapindex[18])\n",
    "\n",
    "\n",
    "### End your code"
   ]
  },
  {
   "cell_type": "markdown",
   "metadata": {},
   "source": [
    "Now that we can obtain postings lists corresponding to the query terms, we want to intersect them. However, à la merging, we can use the sorted-ness of these lists to intersect them very efficiently. Here we'll implement `sorted_intersect` which takes two sorted lists and return a sorted intersection of the elements.  "
   ]
  },
  {
   "cell_type": "code",
   "execution_count": 33,
   "metadata": {},
   "outputs": [
    {
     "name": "stdout",
     "output_type": "stream",
     "text": [
      "Overwriting submission/sorted_intersect.py\n"
     ]
    }
   ],
   "source": [
    "%%tee submission/sorted_intersect.py\n",
    "def sorted_intersect(list1, list2):\n",
    "    \"\"\"Intersects two (ascending) sorted lists and returns the sorted result\n",
    "    \n",
    "    Parameters\n",
    "    ----------\n",
    "    list1: List[Comparable]\n",
    "    list2: List[Comparable]\n",
    "        Sorted lists to be intersected\n",
    "        \n",
    "    Returns\n",
    "    -------\n",
    "    List[Comparable]\n",
    "        Sorted intersection        \n",
    "    \"\"\"\n",
    "    ### Begin your code\n",
    "    return sorted(list(set(list1) & set(list2)))\n",
    "\n",
    "    ### End your code"
   ]
  },
  {
   "cell_type": "markdown",
   "metadata": {},
   "source": [
    "Write a few simple test cases to make sure it works correctly"
   ]
  },
  {
   "cell_type": "code",
   "execution_count": 34,
   "metadata": {},
   "outputs": [
    {
     "name": "stdout",
     "output_type": "stream",
     "text": [
      "44260\n",
      "7342\n",
      "[10551, 10552, 30385, 43926, 43934, 43937, 43939, 43943, 43950, 43960, 43986, 44002, 44008, 44011, 44036, 44049, 44053, 44054, 44056, 69905, 83887]\n",
      "17.9 µs ± 970 ns per loop (mean ± std. dev. of 7 runs, 100000 loops each)\n"
     ]
    }
   ],
   "source": [
    "### Begin your code\n",
    "BSBI_instance = BSBIIndex(data_dir='pa1-data', output_dir = 'output_dir', )\n",
    "BSBI_instance.load()\n",
    "\n",
    "print(BSBI_instance.term_id_map.str_to_id['boolean'])\n",
    "print(BSBI_instance.term_id_map.str_to_id['retrieval'])\n",
    "\n",
    "with InvertedIndexMapper('BSBI',directory='output_dir') as mapindex:\n",
    "    list1 = mapindex[44260]\n",
    "    list2 = mapindex[7342]\n",
    "print(sorted_intersect(list1,list2))\n",
    "%timeit sorted_intersect(list1,list2)\n",
    "### End your code"
   ]
  },
  {
   "cell_type": "markdown",
   "metadata": {},
   "source": [
    "Now we're ready to write the `retrieve` function using `InvertedIndexMapper` and `sorted_intersect`"
   ]
  },
  {
   "cell_type": "code",
   "execution_count": 35,
   "metadata": {},
   "outputs": [
    {
     "name": "stdout",
     "output_type": "stream",
     "text": [
      "Overwriting submission/retrieve.py\n"
     ]
    }
   ],
   "source": [
    "%%tee submission/retrieve.py\n",
    "class BSBIIndex(BSBIIndex):\n",
    "    def retrieve(self, query):\n",
    "        \"\"\"Retrieves the documents corresponding to the conjunctive query\n",
    "        \n",
    "        Parameters\n",
    "        ----------\n",
    "        query: str\n",
    "            Space separated list of query tokens\n",
    "            \n",
    "        Result\n",
    "        ------\n",
    "        List[str]\n",
    "            Sorted list of documents which contains each of the query tokens. \n",
    "            Should be empty if no documents are found.\n",
    "        \n",
    "        Should NOT throw errors for terms not in corpus\n",
    "        \"\"\"\n",
    "        if len(self.term_id_map) == 0 or len(self.doc_id_map) == 0:\n",
    "            self.load()\n",
    "\n",
    "        ### Begin your code\n",
    "        \n",
    "        ### convert query to termID\n",
    "        termIDs = []\n",
    "        for term in query.split():\n",
    "            termID = self.term_id_map.str_to_id[term]\n",
    "            if termID not in termIDs:\n",
    "                termIDs.append(termID)\n",
    "        \n",
    "        intersection = []\n",
    "        with InvertedIndexMapper(index_name=self.index_name,directory=self.output_dir,postings_encoding=self.postings_encoding) as mapindex:\n",
    "            intersection = mapindex[termIDs[0]]\n",
    "            for termID in termIDs[1:]:\n",
    "                intersection = sorted_intersect(intersection,mapindex[termID])\n",
    "        ### convert docID to doc name\n",
    "        intersection = list(map(lambda docID:self.doc_id_map.id_to_str[docID],intersection))\n",
    "        return intersection\n",
    "            \n",
    "\n",
    "        ### End your code"
   ]
  },
  {
   "cell_type": "markdown",
   "metadata": {},
   "source": [
    "Let us test if our index works on the real corpus with a simple query"
   ]
  },
  {
   "cell_type": "code",
   "execution_count": 36,
   "metadata": {},
   "outputs": [
    {
     "data": {
      "text/plain": [
       "['pa1-data\\\\1\\\\cs276.stanford.edu_',\n",
       " 'pa1-data\\\\1\\\\cs276a.stanford.edu_',\n",
       " 'pa1-data\\\\3\\\\infolab.stanford.edu_TR_CS-TN-95-21.html',\n",
       " 'pa1-data\\\\4\\\\nlp.stanford.edu_IR-book_',\n",
       " 'pa1-data\\\\4\\\\nlp.stanford.edu_IR-book_html_htmledition_an-appraisal-of-probabilistic-models-1.html',\n",
       " 'pa1-data\\\\4\\\\nlp.stanford.edu_IR-book_html_htmledition_bayesian-network-approaches-to-ir-1.html',\n",
       " 'pa1-data\\\\4\\\\nlp.stanford.edu_IR-book_html_htmledition_boolean-retrieval-2.html',\n",
       " 'pa1-data\\\\4\\\\nlp.stanford.edu_IR-book_html_htmledition_computing-scores-in-a-complete-search-system-1.html',\n",
       " 'pa1-data\\\\4\\\\nlp.stanford.edu_IR-book_html_htmledition_dictionaries-and-tolerant-retrieval-1.html',\n",
       " 'pa1-data\\\\4\\\\nlp.stanford.edu_IR-book_html_htmledition_efficient-scoring-and-ranking-1.html',\n",
       " 'pa1-data\\\\4\\\\nlp.stanford.edu_IR-book_html_htmledition_inexact-top-k-document-retrieval-1.html',\n",
       " 'pa1-data\\\\4\\\\nlp.stanford.edu_IR-book_html_htmledition_probabilistic-information-retrieval-1.html',\n",
       " 'pa1-data\\\\4\\\\nlp.stanford.edu_IR-book_html_htmledition_putting-it-all-together-1.html',\n",
       " 'pa1-data\\\\4\\\\nlp.stanford.edu_IR-book_html_htmledition_references-and-further-reading-1.html',\n",
       " 'pa1-data\\\\4\\\\nlp.stanford.edu_IR-book_html_htmledition_the-search-user-experience-1.html',\n",
       " 'pa1-data\\\\4\\\\nlp.stanford.edu_IR-book_html_htmledition_vector-space-scoring-and-query-operator-interaction-1.html',\n",
       " 'pa1-data\\\\4\\\\nlp.stanford.edu_IR-book_html_htmledition_weighted-zone-scoring-1.html',\n",
       " 'pa1-data\\\\4\\\\nlp.stanford.edu_IR-book_html_htmledition_wildcard-queries-2.html',\n",
       " 'pa1-data\\\\4\\\\nlp.stanford.edu_IR-book_newslides.html',\n",
       " 'pa1-data\\\\6\\\\www-nlp.stanford.edu_IR-book_essir2011_',\n",
       " 'pa1-data\\\\8\\\\www.stanford.edu_class_cs124_']"
      ]
     },
     "execution_count": 36,
     "metadata": {},
     "output_type": "execute_result"
    }
   ],
   "source": [
    "BSBI_instance = BSBIIndex(data_dir='pa1-data', output_dir = 'output_dir', )\n",
    "BSBI_instance.retrieve('boolean retrieval')"
   ]
  },
  {
   "cell_type": "markdown",
   "metadata": {},
   "source": [
    "You can also test if one of these pages truly contains the query terms by reading a file as follows"
   ]
  },
  {
   "cell_type": "code",
   "execution_count": 37,
   "metadata": {},
   "outputs": [
    {
     "name": "stdout",
     "output_type": "stream",
     "text": [
      "cs276 information retrieval and web search cs 276 ling 286 information retrieval and web search spring 2011 pandu nayak and prabhakar raghavan lecture 3 units tu th 4 15 5 30 gates b03 tas sonali aggarwal ivan cui valentin spitkovsky and sandeep sripada staff e mail cs276 spr1011 staff lists stanford edu lectures are also available online and on television through scpd sitn course description basic and advanced techniques for text based information systems efficient text indexing boolean and vector space retrieval models evaluation and interface issues web search including crawling link based algorithms and web metadata text web clustering classification text mining syllabus additional information staff contact information piazzza we strongly recommend students to post questions to the course page on www piazzza com instead of sending emails this forum enables students to discuss the questions they encounter in lectures or assignments here is a quick introduction video email if you have a question not appropriate for the piazzza forum eg one that is only relevant to your situation or one that reveals part of your solution to a homework question please email the staff mailing list at cs276 spr1011 staff lists stanford edu professor pandu nayak office none on campus office hours by appointment email nayak cs stanford edu professor prabhakar raghavan office none on campus office hours by appointment email pragh cs stanford edu ta sonali aggarwal office location b26 a ph 650 723 6319 office hours wednesday 4 30pm 6 30pm email sonali9 stanford edu ta ivan cui office location b26 b ph 650 736 1817 office hours monday 2 15pm 4 15pm email ivancui stanford edu ta valentin spitkovsky office location gates 228 second floor office hours thursday 2 15pm 4 15pm email vals stanford edu ta sandeep sripada office location b26 a ph 650 723 6319 office hours tuesday 5 30pm 7 30pm remember to carry your stanford id to open the basement doors email sss cs stanford edu announcements if you are not registered in the course but wish to receive course announcements you may subscribe to the guest mailing list cs276 spr1011 guests lists stanford edu textbook introduction to information retrieval by c manning p raghavan and h schutze cambridge university press available from the stanford bookstore or other fine retailers you can also download and print chapters at the book website prerequisites cs 103b and cs 107 and any one of cs 121 cs 145 or cs 161 or equivalent background programming experience will be necessary for the two practical exercises related courses introduction to computational advertising http www stanford edu class msande239\n",
      "\n"
     ]
    }
   ],
   "source": [
    "with open(\"pa1-data/1/cs276.stanford.edu_\", 'r') as f:\n",
    "    print(f.read())"
   ]
  },
  {
   "cell_type": "markdown",
   "metadata": {},
   "source": [
    "Let's test on the dev queries to see if it works alright. "
   ]
  },
  {
   "cell_type": "code",
   "execution_count": 38,
   "metadata": {},
   "outputs": [
    {
     "name": "stdout",
     "output_type": "stream",
     "text": [
      "Results match for query: we are\n",
      "Results match for query: stanford class\n",
      "Results match for query: stanford students\n",
      "Results match for query: very cool\n",
      "Results match for query: the\n",
      "Results match for query: a\n",
      "Results match for query: the the\n",
      "Results match for query: stanford computer science\n"
     ]
    }
   ],
   "source": [
    "BSBI_instance = BSBIIndex(data_dir='pa1-data', output_dir = 'output_dir', )\n",
    "for i in range(1, 9):\n",
    "    with open('dev_queries/query.' + str(i)) as q:\n",
    "        query = q.read()\n",
    "        my_results = BSBI_instance.retrieve(query)\n",
    "        if not os.path.isdir('dev_out'):\n",
    "            os.mkdir('dev_out')\n",
    "        with open('dev_out/result.' + str(i),'w') as o:\n",
    "            o.writelines('%s\\n' % result for result in my_results)\n",
    "        print(\"Results match for query:\", query.strip())"
   ]
  },
  {
   "cell_type": "markdown",
   "metadata": {},
   "source": [
    "If an assert is failing you can compare the difference in outputs as follows"
   ]
  },
  {
   "cell_type": "code",
   "execution_count": 39,
   "metadata": {},
   "outputs": [],
   "source": [
    "#set(my_results) - set(reference_results)"
   ]
  },
  {
   "cell_type": "code",
   "execution_count": 40,
   "metadata": {},
   "outputs": [],
   "source": [
    "#set(reference_results) - set(my_results)"
   ]
  },
  {
   "cell_type": "markdown",
   "metadata": {},
   "source": [
    "Make sure you write your own queries test for all kinds of corner cases like terms which have never occurred in the corpus, or terms that are very frequent and might slow down the merge. "
   ]
  },
  {
   "cell_type": "markdown",
   "metadata": {},
   "source": [
    "# 构建压缩索引"
   ]
  },
  {
   "cell_type": "markdown",
   "metadata": {},
   "source": [
    "In this section, you should build a compressed index using gap encoding with variable byte encoding for each gap.\n",
    "\n",
    "Here are some things about python you'll find useful. "
   ]
  },
  {
   "cell_type": "code",
   "execution_count": 41,
   "metadata": {},
   "outputs": [
    {
     "name": "stdout",
     "output_type": "stream",
     "text": [
      "10 % 2 =  0\n",
      "10 % 3 =  1\n",
      "10 / 3 =  3.3333333333333335\n",
      "10 // 3 =  3\n"
     ]
    }
   ],
   "source": [
    "# Remainder (modulo) operator %\n",
    "\n",
    "print(\"10 % 2 = \", 10 % 2)\n",
    "print(\"10 % 3 = \", 10 % 3)\n",
    "\n",
    "# Integer division in Python 3 is done by using two slash signs\n",
    "\n",
    "print(\"10 / 3 = \", 10 / 3)\n",
    "print(\"10 // 3 = \", 10 // 3)"
   ]
  },
  {
   "cell_type": "markdown",
   "metadata": {},
   "source": [
    "Fill in the following `CompressedPostings` class which we shall use as a drop-in replacement for `UncompressedPostings`. You should refer to [Chapter 5](https://nlp.stanford.edu/IR-book/pdf/05comp.pdf) of the textbook for understanding how gap encoding with variable byte encoding for each gap is done. "
   ]
  },
  {
   "cell_type": "code",
   "execution_count": 42,
   "metadata": {},
   "outputs": [
    {
     "name": "stdout",
     "output_type": "stream",
     "text": [
      "Overwriting submission/compressed_postings.py\n"
     ]
    }
   ],
   "source": [
    "%%tee submission/compressed_postings.py\n",
    "class CompressedPostings:\n",
    "    #If you need any extra helper methods you can add them here \n",
    "    ### Begin your code\n",
    "\n",
    "    ### End your code\n",
    "    \n",
    "    @staticmethod\n",
    "    def encode(postings_list):\n",
    "        \"\"\"Encodes `postings_list` using gap encoding with variable byte \n",
    "        encoding for each gap\n",
    "        \n",
    "        Parameters\n",
    "        ----------\n",
    "        postings_list: List[int]\n",
    "            The postings list to be encoded\n",
    "        \n",
    "        Returns\n",
    "        -------\n",
    "        bytes: \n",
    "            Bytes reprsentation of the compressed postings list \n",
    "            (as produced by `array.tobytes` function)\n",
    "        \"\"\"\n",
    "        ### Begin your code\n",
    "        postings_list_gap = []\n",
    "        postings_list_gap.append(postings_list[0])\n",
    "        for x,y in zip(postings_list,postings_list[1:]):\n",
    "            postings_list_gap.append(y-x)\n",
    "\n",
    "        vb = []\n",
    "        for gap in postings_list_gap:\n",
    "            gap_bin_str = bin(gap)[2:]\n",
    "            left = len(gap_bin_str) % 7\n",
    "            gap_vb = []\n",
    "            if left != 0:\n",
    "                gap_vb.append(gap_bin_str[:left].zfill(8))\n",
    "            gap_bin_str = gap_bin_str[left:]\n",
    "            num_7bits = len(gap_bin_str) // 7\n",
    "            for num in range(num_7bits):\n",
    "                gap_vb.append(gap_bin_str[num*7:(num+1)*7].zfill(8))\n",
    "            gap_vb[-1] = '1'+ gap_vb[-1][1:]\n",
    "            vb.extend(gap_vb)\n",
    "\n",
    "        result = b''\n",
    "        for str_8bits in vb:\n",
    "            int_8bits = int(str_8bits,2)\n",
    "            bytes_8bits = struct.pack('B',int_8bits)\n",
    "            result += bytes_8bits\n",
    "        return result\n",
    "\n",
    "        ### End your code\n",
    "\n",
    "        \n",
    "    @staticmethod\n",
    "    def decode(encoded_postings_list):\n",
    "        \"\"\"Decodes a byte representation of compressed postings list\n",
    "        \n",
    "        Parameters\n",
    "        ----------\n",
    "        encoded_postings_list: bytes\n",
    "            Bytes representation as produced by `CompressedPostings.encode` \n",
    "            \n",
    "        Returns\n",
    "        -------\n",
    "        List[int]\n",
    "            Decoded postings list (each posting is a docIds)\n",
    "        \"\"\"\n",
    "        ### Begin your code\n",
    "        docID_bin_str = ''\n",
    "        postings_list_gap = []\n",
    "        for byte in encoded_postings_list:\n",
    "            bin_str = bin(byte)[2:]\n",
    "            bin_str_padding = bin_str.zfill(8)\n",
    "            if bin_str_padding[0] == '1':\n",
    "                ### already read a docID\n",
    "                docID_bin_str += bin_str_padding[1:]\n",
    "                postings_list_gap.append(int(docID_bin_str,2))\n",
    "                docID_bin_str = ''\n",
    "            else:\n",
    "                docID_bin_str += bin_str_padding[1:]\n",
    "        postings_list = []\n",
    "        postings_list.append(postings_list_gap[0])\n",
    "        for gap in postings_list_gap[1:]:\n",
    "            last = postings_list[-1]\n",
    "            postings_list.append(last+gap)\n",
    "        return postings_list\n",
    "\n",
    "        ### End your code\n"
   ]
  },
  {
   "cell_type": "markdown",
   "metadata": {},
   "source": [
    "First, write some test cases for any helper methods that you might have implemented"
   ]
  },
  {
   "cell_type": "code",
   "execution_count": 43,
   "metadata": {},
   "outputs": [
    {
     "name": "stdout",
     "output_type": "stream",
     "text": [
      "320044\n",
      "80014\n"
     ]
    },
    {
     "data": {
      "text/plain": [
       "True"
      ]
     },
     "execution_count": 43,
     "metadata": {},
     "output_type": "execute_result"
    }
   ],
   "source": [
    "### Begin your code\n",
    "l = [25,68,525,569,789,792,795,813,888,1000,1001,*list(range(10000,90000))]\n",
    "r_un = UncompressedPostings.encode(l)\n",
    "print(len(r_un))\n",
    "r = CompressedPostings.encode(l)\n",
    "print(len(r))\n",
    "CompressedPostings.decode(r) == UncompressedPostings.decode(r_un)\n",
    "\n",
    "### End your code"
   ]
  },
  {
   "cell_type": "markdown",
   "metadata": {},
   "source": [
    "We've provided a simple helper function for you to test whether an encoded postings list is decode correctly."
   ]
  },
  {
   "cell_type": "markdown",
   "metadata": {},
   "source": [
    "Write a few test cases to make sure the postings list compression and decompression is being done correctly"
   ]
  },
  {
   "cell_type": "code",
   "execution_count": 44,
   "metadata": {},
   "outputs": [],
   "source": [
    "### Begin your code\n",
    "\n",
    "### End your code"
   ]
  },
  {
   "cell_type": "markdown",
   "metadata": {},
   "source": [
    "Now let us create a new output directory and use the `CompressedPostings` to create a compressed index"
   ]
  },
  {
   "cell_type": "code",
   "execution_count": 45,
   "metadata": {},
   "outputs": [],
   "source": [
    "try: \n",
    "    os.mkdir('output_dir_compressed')\n",
    "except FileExistsError:\n",
    "    pass"
   ]
  },
  {
   "cell_type": "code",
   "execution_count": 46,
   "metadata": {},
   "outputs": [
    {
     "name": "stdout",
     "output_type": "stream",
     "text": [
      "already construct pa1-data postings list\n"
     ]
    }
   ],
   "source": [
    "if os.path.isfile('output_dir_compressed/BSBI.dict'):\n",
    "    print('already construct pa1-data postings list')\n",
    "else:\n",
    "    BSBI_instance_compressed = BSBIIndex(data_dir='pa1-data', output_dir = 'output_dir_compressed', postings_encoding=CompressedPostings)\n",
    "    BSBI_instance_compressed.index()"
   ]
  },
  {
   "cell_type": "code",
   "execution_count": 47,
   "metadata": {
    "scrolled": true
   },
   "outputs": [
    {
     "data": {
      "text/plain": [
       "['pa1-data\\\\1\\\\cs276.stanford.edu_',\n",
       " 'pa1-data\\\\1\\\\cs276a.stanford.edu_',\n",
       " 'pa1-data\\\\3\\\\infolab.stanford.edu_TR_CS-TN-95-21.html',\n",
       " 'pa1-data\\\\4\\\\nlp.stanford.edu_IR-book_',\n",
       " 'pa1-data\\\\4\\\\nlp.stanford.edu_IR-book_html_htmledition_an-appraisal-of-probabilistic-models-1.html',\n",
       " 'pa1-data\\\\4\\\\nlp.stanford.edu_IR-book_html_htmledition_bayesian-network-approaches-to-ir-1.html',\n",
       " 'pa1-data\\\\4\\\\nlp.stanford.edu_IR-book_html_htmledition_boolean-retrieval-2.html',\n",
       " 'pa1-data\\\\4\\\\nlp.stanford.edu_IR-book_html_htmledition_computing-scores-in-a-complete-search-system-1.html',\n",
       " 'pa1-data\\\\4\\\\nlp.stanford.edu_IR-book_html_htmledition_dictionaries-and-tolerant-retrieval-1.html',\n",
       " 'pa1-data\\\\4\\\\nlp.stanford.edu_IR-book_html_htmledition_efficient-scoring-and-ranking-1.html',\n",
       " 'pa1-data\\\\4\\\\nlp.stanford.edu_IR-book_html_htmledition_inexact-top-k-document-retrieval-1.html',\n",
       " 'pa1-data\\\\4\\\\nlp.stanford.edu_IR-book_html_htmledition_probabilistic-information-retrieval-1.html',\n",
       " 'pa1-data\\\\4\\\\nlp.stanford.edu_IR-book_html_htmledition_putting-it-all-together-1.html',\n",
       " 'pa1-data\\\\4\\\\nlp.stanford.edu_IR-book_html_htmledition_references-and-further-reading-1.html',\n",
       " 'pa1-data\\\\4\\\\nlp.stanford.edu_IR-book_html_htmledition_the-search-user-experience-1.html',\n",
       " 'pa1-data\\\\4\\\\nlp.stanford.edu_IR-book_html_htmledition_vector-space-scoring-and-query-operator-interaction-1.html',\n",
       " 'pa1-data\\\\4\\\\nlp.stanford.edu_IR-book_html_htmledition_weighted-zone-scoring-1.html',\n",
       " 'pa1-data\\\\4\\\\nlp.stanford.edu_IR-book_html_htmledition_wildcard-queries-2.html',\n",
       " 'pa1-data\\\\4\\\\nlp.stanford.edu_IR-book_newslides.html',\n",
       " 'pa1-data\\\\6\\\\www-nlp.stanford.edu_IR-book_essir2011_',\n",
       " 'pa1-data\\\\8\\\\www.stanford.edu_class_cs124_']"
      ]
     },
     "execution_count": 47,
     "metadata": {},
     "output_type": "execute_result"
    }
   ],
   "source": [
    "BSBI_instance_compressed = BSBIIndex(data_dir='pa1-data', output_dir = 'output_dir_compressed', postings_encoding=CompressedPostings)\n",
    "BSBI_instance_compressed.retrieve('boolean retrieval')"
   ]
  },
  {
   "cell_type": "markdown",
   "metadata": {},
   "source": [
    "As before, let us now test on the dev queries to see if it works alright"
   ]
  },
  {
   "cell_type": "code",
   "execution_count": 55,
   "metadata": {},
   "outputs": [
    {
     "name": "stdout",
     "output_type": "stream",
     "text": [
      "Results match for query: we are\n",
      "Results match for query: stanford class\n",
      "Results match for query: stanford students\n",
      "Results match for query: very cool\n",
      "Results match for query: the\n",
      "Results match for query: a\n",
      "Results match for query: the the\n",
      "Results match for query: stanford computer science\n"
     ]
    }
   ],
   "source": [
    "BSBI_instance = BSBIIndex(data_dir='pa1-data', output_dir = 'output_dir', postings_encoding=CompressedPostings)\n",
    "### test if compressed version and uncompressed version are same\n",
    "for i in range(1, 9):\n",
    "    with open('dev_queries/query.' + str(i)) as q:\n",
    "        query = q.read()\n",
    "        my_results = BSBI_instance_compressed.retrieve(query)\n",
    "        with open('dev_out/result.' + str(i)) as o:\n",
    "            results = o.readlines()\n",
    "        results = list(map(lambda s:s.strip(),results))\n",
    "        assert my_results == results, \"Results DO NOT match for query: \"+query.strip()\n",
    "        print(\"Results match for query:\", query.strip())"
   ]
  },
  {
   "cell_type": "markdown",
   "metadata": {},
   "source": [
    "## Code submission\n",
    "\n",
    "Now you are ready to submit the code part of your assignment. Refer to [submission instructions section](#Submission-instructions). "
   ]
  },
  {
   "cell_type": "markdown",
   "metadata": {},
   "source": [
    "# 其他压缩方法实现(选做)"
   ]
  },
  {
   "cell_type": "markdown",
   "metadata": {},
   "source": [
    "Implement one more index compression method by filling in the `encode` and `decode` methods in `ECCompressedPostings`. \n",
    "\n",
    "Here are a few directions  \n",
    "1. [Section 5.4](https://nlp.stanford.edu/IR-book/pdf/05comp.pdf) in the textbook points to a few techniques (e.g., **gamma-encoding**) and related publications. \n",
    "2. You can also look into **Delta Encoding**, a compression technique very similar to Gamma Encoding, which can achieve an even better compression rate. \n",
    "3. Also, [ALGORITHM SIMPLE-9](https://github.com/manning/CompressionAlgorithms#simple-9) is an interesting encoding technique that you could also consider implementing.\n",
    "\n",
    "You should store each postings list is stored in a multiple of bytes (rather than bits). The positions and lengths in index file are in multiples of bytes. "
   ]
  },
  {
   "cell_type": "code",
   "execution_count": null,
   "metadata": {},
   "outputs": [],
   "source": [
    "%%tee submission/ec_compressed_postings.py\n",
    "class ECCompressedPostings:\n",
    "    #If you need any extra helper methods you can add them here \n",
    "    ### Begin your code\n",
    "\n",
    "    ### End your code\n",
    "    \n",
    "    @staticmethod\n",
    "    def encode(postings_list):\n",
    "        \"\"\"Encodes `postings_list` \n",
    "        \n",
    "        Parameters\n",
    "        ----------\n",
    "        postings_list: List[int]\n",
    "            The postings list to be encoded\n",
    "        \n",
    "        Returns\n",
    "        -------\n",
    "        bytes: \n",
    "            Bytes reprsentation of the compressed postings list \n",
    "        \"\"\"\n",
    "        ### Begin your code\n",
    "\n",
    "        ### End your code\n",
    "\n",
    "        \n",
    "    @staticmethod\n",
    "    def decode(encoded_postings_list):\n",
    "        \"\"\"Decodes a byte representation of compressed postings list\n",
    "        \n",
    "        Parameters\n",
    "        ----------\n",
    "        encoded_postings_list: bytes\n",
    "            Bytes representation as produced by `CompressedPostings.encode` \n",
    "            \n",
    "        Returns\n",
    "        -------\n",
    "        List[int]\n",
    "            Decoded postings list (each posting is a docId)\n",
    "        \"\"\"\n",
    "        ### Begin your code\n",
    "\n",
    "        ### End your code"
   ]
  },
  {
   "cell_type": "markdown",
   "metadata": {},
   "source": [
    "**Write a description of your index compression method as well as a discussion of the space/speed trade-off of this additional compression method, in comparison to what we implemented in previous tasks.**\n",
    "\n",
    "> Your answer here"
   ]
  }
 ],
 "metadata": {
  "kernelspec": {
   "display_name": "Python 3",
   "language": "python",
   "name": "python3"
  },
  "language_info": {
   "codemirror_mode": {
    "name": "ipython",
    "version": 3
   },
   "file_extension": ".py",
   "mimetype": "text/x-python",
   "name": "python",
   "nbconvert_exporter": "python",
   "pygments_lexer": "ipython3",
   "version": "3.7.4"
  },
  "toc": {
   "base_numbering": 1,
   "nav_menu": {
    "height": "66px",
    "width": "252px"
   },
   "number_sections": true,
   "sideBar": true,
   "skip_h1_title": false,
   "title_cell": "Table of Contents",
   "title_sidebar": "Contents",
   "toc_cell": false,
   "toc_position": {},
   "toc_section_display": "block",
   "toc_window_display": false
  }
 },
 "nbformat": 4,
 "nbformat_minor": 2
}
